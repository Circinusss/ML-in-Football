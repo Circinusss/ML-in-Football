{
  "nbformat": 4,
  "nbformat_minor": 0,
  "metadata": {
    "colab": {
      "name": "ML in Football.ipynb",
      "provenance": [],
      "collapsed_sections": []
    },
    "kernelspec": {
      "display_name": "Python 3",
      "name": "python3"
    },
    "language_info": {
      "name": "python"
    }
  },
  "cells": [
    {
      "cell_type": "markdown",
      "metadata": {
        "id": "Yh9tEPSXFaHr"
      },
      "source": [
        "**<h1>Importing Libraries**"
      ]
    },
    {
      "cell_type": "code",
      "metadata": {
        "colab": {
          "base_uri": "https://localhost:8080/"
        },
        "id": "hJ6qlt1CFfyd",
        "outputId": "911c125f-7955-40fe-a6ba-2f4bad40b6b5"
      },
      "source": [
        "!pip install squarify"
      ],
      "execution_count": null,
      "outputs": [
        {
          "output_type": "stream",
          "text": [
            "Requirement already satisfied: squarify in /usr/local/lib/python3.7/dist-packages (0.4.3)\n"
          ],
          "name": "stdout"
        }
      ]
    },
    {
      "cell_type": "code",
      "metadata": {
        "id": "NLruLhYjFheO"
      },
      "source": [
        "import numpy as np\n",
        "import pandas as pd\n",
        "import json\n",
        "from pandas.io.json import json_normalize\n",
        "from functools import reduce\n",
        "import math\n",
        "import matplotlib.pyplot as plt\n",
        "import seaborn as sns\n",
        "import scipy.stats as scipy\n",
        "from IPython.display import display\n",
        "from sklearn.metrics import accuracy_score"
      ],
      "execution_count": null,
      "outputs": []
    },
    {
      "cell_type": "code",
      "metadata": {
        "id": "NRgv8J5YFswD"
      },
      "source": [
        "data_id = [9870, 9880, 9889, 9912, 9924, 9928, 9948]\n",
        "all_data = pd.DataFrame()\n",
        "for i in data_id:\n",
        "  with open(\"/content/drive/MyDrive/dataSets/SoccerData/\" + str(i) + \".json\") as data_file:\n",
        "    data = json.load(data_file)\n",
        "  df = pd.json_normalize(data, sep= \"_\")\n",
        "  if all_data.empty:\n",
        "    all_data = df\n",
        "  else:\n",
        "    all_data = pd.concat([all_data, df], join = 'outer', sort = False)"
      ],
      "execution_count": null,
      "outputs": []
    },
    {
      "cell_type": "code",
      "metadata": {
        "colab": {
          "base_uri": "https://localhost:8080/"
        },
        "id": "Je-lGdjBFxQe",
        "outputId": "9063f34e-c5c2-4d0c-9238-1a225c83755f"
      },
      "source": [
        "all_data['type_name'] = all_data['type_name'].replace(['Ball Receipt*'], 'Ball Receipt')\n",
        "typ_name = all_data['type_name'].unique()\n",
        "typ_name"
      ],
      "execution_count": null,
      "outputs": [
        {
          "output_type": "execute_result",
          "data": {
            "text/plain": [
              "array(['Starting XI', 'Half Start', 'Pass', 'Ball Receipt', 'Carry',\n",
              "       'Pressure', 'Ball Recovery', 'Dribbled Past', 'Dribble',\n",
              "       'Dispossessed', 'Duel', 'Interception', 'Block', 'Camera On',\n",
              "       'Camera off', 'Miscontrol', 'Clearance', 'Shot', 'Goal Keeper',\n",
              "       'Error', '50/50', 'Foul Committed', 'Foul Won', 'Half End',\n",
              "       'Substitution', 'Tactical Shift', 'Shield', 'Injury Stoppage',\n",
              "       'Offside', 'Player Off', 'Player On', 'Bad Behaviour'],\n",
              "      dtype=object)"
            ]
          },
          "metadata": {
            "tags": []
          },
          "execution_count": 4
        }
      ]
    },
    {
      "cell_type": "code",
      "metadata": {
        "id": "p9oaLg73GcTl"
      },
      "source": [
        "dflist = ['T_Pass', 'Ball_Receipt', 'Carry', 'Interception', 'Pressure', 'Block','Ball_Recovery', 'Shot', 'Dribble', 'Duel', 'Clearance', 'Shield', 'Goal_Keeper']\n",
        " \n",
        "T_Pass = all_data.groupby('player_name')['type_name'].apply(lambda x: (x == \"'Pass'\").count()).reset_index(name = \"T_Pass\")\n",
        "Ball_Receipt = all_data.groupby('player_name')['type_name'].apply(lambda x: (x == \"Ball Receipt\").sum()).reset_index(name = \"Ball_Receipt\")\n",
        "Carry = all_data.groupby('player_name')['type_name'].apply(lambda x: (x == \"Carry\").sum()).reset_index(name = \"Carry\")\n",
        "Interception = all_data.groupby('player_name')['type_name'].apply(lambda x: (x == \"Interception\").sum()).reset_index(name = \"Interception\")\n",
        "Pressure = all_data.groupby('player_name')['type_name'].apply(lambda x: (x == \"Pressure\").sum()).reset_index(name = \"Pressure\")\n",
        "Block = all_data.groupby('player_name')['type_name'].apply(lambda x: (x == \"Block\").sum()).reset_index(name = \"Block\")\n",
        "Ball_Recovery = all_data.groupby('player_name')['type_name'].apply(lambda x: (x == \"Ball Recovery\").sum()).reset_index(name = \"Ball_Recovery\")\n",
        "Shot = all_data.groupby('player_name')['type_name'].apply(lambda x: (x == \"Shot\").sum()).reset_index(name = \"Shot\")\n",
        "Dribble = all_data.groupby('player_name')['type_name'].apply(lambda x: (x == \"Dribble\").sum()).reset_index(name = \"Dribble\")\n",
        "Clearance = all_data.groupby('player_name')['type_name'].apply(lambda x: (x == \"Clearance\").sum()).reset_index(name = \"Clearance\")\n",
        "Shield = all_data.groupby('player_name')['type_name'].apply(lambda x: (x == \"Shield\").sum()).reset_index(name = \"Shield\")\n",
        "Goal_Keeper = all_data.groupby('player_name')['type_name'].apply(lambda x: (x == \"Goal Keeper\").sum()).reset_index(name = \"Goal_Keeper\")"
      ],
      "execution_count": null,
      "outputs": []
    },
    {
      "cell_type": "code",
      "metadata": {
        "colab": {
          "base_uri": "https://localhost:8080/",
          "height": 416
        },
        "id": "4M8d0kyXGe4Q",
        "outputId": "1a959cc1-6fec-4a2e-fed1-a8e6f78daf51"
      },
      "source": [
        "dlist = [T_Pass, Ball_Receipt, Carry, Interception, Pressure, Block, Ball_Recovery,\n",
        "       Shot, Dribble, Clearance, Shield, Goal_Keeper]\n",
        "summary = reduce(lambda x, y: pd.merge(x, y, on = 'player_name'), dlist)\n",
        "summary"
      ],
      "execution_count": null,
      "outputs": [
        {
          "output_type": "execute_result",
          "data": {
            "text/html": [
              "<div>\n",
              "<style scoped>\n",
              "    .dataframe tbody tr th:only-of-type {\n",
              "        vertical-align: middle;\n",
              "    }\n",
              "\n",
              "    .dataframe tbody tr th {\n",
              "        vertical-align: top;\n",
              "    }\n",
              "\n",
              "    .dataframe thead th {\n",
              "        text-align: right;\n",
              "    }\n",
              "</style>\n",
              "<table border=\"1\" class=\"dataframe\">\n",
              "  <thead>\n",
              "    <tr style=\"text-align: right;\">\n",
              "      <th></th>\n",
              "      <th>player_name</th>\n",
              "      <th>T_Pass</th>\n",
              "      <th>Ball_Receipt</th>\n",
              "      <th>Carry</th>\n",
              "      <th>Interception</th>\n",
              "      <th>Pressure</th>\n",
              "      <th>Block</th>\n",
              "      <th>Ball_Recovery</th>\n",
              "      <th>Shot</th>\n",
              "      <th>Dribble</th>\n",
              "      <th>Clearance</th>\n",
              "      <th>Shield</th>\n",
              "      <th>Goal_Keeper</th>\n",
              "    </tr>\n",
              "  </thead>\n",
              "  <tbody>\n",
              "    <tr>\n",
              "      <th>0</th>\n",
              "      <td>Adnan Januzaj</td>\n",
              "      <td>106</td>\n",
              "      <td>28</td>\n",
              "      <td>22</td>\n",
              "      <td>1</td>\n",
              "      <td>19</td>\n",
              "      <td>1</td>\n",
              "      <td>2</td>\n",
              "      <td>1</td>\n",
              "      <td>2</td>\n",
              "      <td>0</td>\n",
              "      <td>1</td>\n",
              "      <td>0</td>\n",
              "    </tr>\n",
              "    <tr>\n",
              "      <th>1</th>\n",
              "      <td>Alberto De La Bella Madureño</td>\n",
              "      <td>113</td>\n",
              "      <td>29</td>\n",
              "      <td>26</td>\n",
              "      <td>0</td>\n",
              "      <td>11</td>\n",
              "      <td>1</td>\n",
              "      <td>2</td>\n",
              "      <td>0</td>\n",
              "      <td>0</td>\n",
              "      <td>2</td>\n",
              "      <td>0</td>\n",
              "      <td>0</td>\n",
              "    </tr>\n",
              "    <tr>\n",
              "      <th>2</th>\n",
              "      <td>Aleix Vidal Parreu</td>\n",
              "      <td>27</td>\n",
              "      <td>8</td>\n",
              "      <td>3</td>\n",
              "      <td>0</td>\n",
              "      <td>7</td>\n",
              "      <td>2</td>\n",
              "      <td>1</td>\n",
              "      <td>0</td>\n",
              "      <td>0</td>\n",
              "      <td>0</td>\n",
              "      <td>0</td>\n",
              "      <td>0</td>\n",
              "    </tr>\n",
              "    <tr>\n",
              "      <th>3</th>\n",
              "      <td>Andreas Hoelgebaum Pereira</td>\n",
              "      <td>45</td>\n",
              "      <td>11</td>\n",
              "      <td>13</td>\n",
              "      <td>0</td>\n",
              "      <td>2</td>\n",
              "      <td>0</td>\n",
              "      <td>2</td>\n",
              "      <td>0</td>\n",
              "      <td>1</td>\n",
              "      <td>1</td>\n",
              "      <td>0</td>\n",
              "      <td>0</td>\n",
              "    </tr>\n",
              "    <tr>\n",
              "      <th>4</th>\n",
              "      <td>André Filipe Tavares Gomes</td>\n",
              "      <td>380</td>\n",
              "      <td>93</td>\n",
              "      <td>100</td>\n",
              "      <td>2</td>\n",
              "      <td>41</td>\n",
              "      <td>1</td>\n",
              "      <td>10</td>\n",
              "      <td>1</td>\n",
              "      <td>5</td>\n",
              "      <td>1</td>\n",
              "      <td>0</td>\n",
              "      <td>0</td>\n",
              "    </tr>\n",
              "    <tr>\n",
              "      <th>...</th>\n",
              "      <td>...</td>\n",
              "      <td>...</td>\n",
              "      <td>...</td>\n",
              "      <td>...</td>\n",
              "      <td>...</td>\n",
              "      <td>...</td>\n",
              "      <td>...</td>\n",
              "      <td>...</td>\n",
              "      <td>...</td>\n",
              "      <td>...</td>\n",
              "      <td>...</td>\n",
              "      <td>...</td>\n",
              "      <td>...</td>\n",
              "    </tr>\n",
              "    <tr>\n",
              "      <th>115</th>\n",
              "      <td>Willian José da Silva</td>\n",
              "      <td>117</td>\n",
              "      <td>42</td>\n",
              "      <td>27</td>\n",
              "      <td>0</td>\n",
              "      <td>6</td>\n",
              "      <td>1</td>\n",
              "      <td>2</td>\n",
              "      <td>4</td>\n",
              "      <td>0</td>\n",
              "      <td>0</td>\n",
              "      <td>0</td>\n",
              "      <td>0</td>\n",
              "    </tr>\n",
              "    <tr>\n",
              "      <th>116</th>\n",
              "      <td>Xabier Prieto Argarate</td>\n",
              "      <td>4</td>\n",
              "      <td>0</td>\n",
              "      <td>0</td>\n",
              "      <td>0</td>\n",
              "      <td>4</td>\n",
              "      <td>0</td>\n",
              "      <td>0</td>\n",
              "      <td>0</td>\n",
              "      <td>0</td>\n",
              "      <td>0</td>\n",
              "      <td>0</td>\n",
              "      <td>0</td>\n",
              "    </tr>\n",
              "    <tr>\n",
              "      <th>117</th>\n",
              "      <td>Yerry Fernando Mina González</td>\n",
              "      <td>382</td>\n",
              "      <td>104</td>\n",
              "      <td>101</td>\n",
              "      <td>0</td>\n",
              "      <td>29</td>\n",
              "      <td>6</td>\n",
              "      <td>3</td>\n",
              "      <td>0</td>\n",
              "      <td>1</td>\n",
              "      <td>14</td>\n",
              "      <td>0</td>\n",
              "      <td>0</td>\n",
              "    </tr>\n",
              "    <tr>\n",
              "      <th>118</th>\n",
              "      <td>Álvaro González Soberón</td>\n",
              "      <td>135</td>\n",
              "      <td>41</td>\n",
              "      <td>36</td>\n",
              "      <td>0</td>\n",
              "      <td>3</td>\n",
              "      <td>0</td>\n",
              "      <td>3</td>\n",
              "      <td>0</td>\n",
              "      <td>0</td>\n",
              "      <td>2</td>\n",
              "      <td>0</td>\n",
              "      <td>0</td>\n",
              "    </tr>\n",
              "    <tr>\n",
              "      <th>119</th>\n",
              "      <td>Álvaro Odriozola Arzallus</td>\n",
              "      <td>53</td>\n",
              "      <td>15</td>\n",
              "      <td>14</td>\n",
              "      <td>0</td>\n",
              "      <td>7</td>\n",
              "      <td>0</td>\n",
              "      <td>1</td>\n",
              "      <td>0</td>\n",
              "      <td>1</td>\n",
              "      <td>0</td>\n",
              "      <td>0</td>\n",
              "      <td>0</td>\n",
              "    </tr>\n",
              "  </tbody>\n",
              "</table>\n",
              "<p>120 rows × 13 columns</p>\n",
              "</div>"
            ],
            "text/plain": [
              "                      player_name  T_Pass  ...  Shield  Goal_Keeper\n",
              "0                   Adnan Januzaj     106  ...       1            0\n",
              "1    Alberto De La Bella Madureño     113  ...       0            0\n",
              "2              Aleix Vidal Parreu      27  ...       0            0\n",
              "3      Andreas Hoelgebaum Pereira      45  ...       0            0\n",
              "4      André Filipe Tavares Gomes     380  ...       0            0\n",
              "..                            ...     ...  ...     ...          ...\n",
              "115         Willian José da Silva     117  ...       0            0\n",
              "116        Xabier Prieto Argarate       4  ...       0            0\n",
              "117  Yerry Fernando Mina González     382  ...       0            0\n",
              "118       Álvaro González Soberón     135  ...       0            0\n",
              "119     Álvaro Odriozola Arzallus      53  ...       0            0\n",
              "\n",
              "[120 rows x 13 columns]"
            ]
          },
          "metadata": {
            "tags": []
          },
          "execution_count": 6
        }
      ]
    },
    {
      "cell_type": "code",
      "metadata": {
        "colab": {
          "base_uri": "https://localhost:8080/"
        },
        "id": "2cJ2HTIfGg4o",
        "outputId": "fea5f0c4-5f50-41c4-a90d-fa1493fb2f9b"
      },
      "source": [
        "mean_vals = summary.mean()\n",
        "mean_vals"
      ],
      "execution_count": null,
      "outputs": [
        {
          "output_type": "execute_result",
          "data": {
            "text/plain": [
              "T_Pass           226.408333\n",
              "Ball_Receipt      59.258333\n",
              "Carry             55.808333\n",
              "Interception       1.133333\n",
              "Pressure          23.741667\n",
              "Block              1.941667\n",
              "Ball_Recovery      4.925000\n",
              "Shot               1.741667\n",
              "Dribble            1.916667\n",
              "Clearance          1.316667\n",
              "Shield             0.075000\n",
              "Goal_Keeper        1.950000\n",
              "dtype: float64"
            ]
          },
          "metadata": {
            "tags": []
          },
          "execution_count": 7
        }
      ]
    },
    {
      "cell_type": "markdown",
      "metadata": {
        "id": "_gqJUkbxGmyl"
      },
      "source": [
        " **<h1>Select Player Name**"
      ]
    },
    {
      "cell_type": "code",
      "metadata": {
        "colab": {
          "base_uri": "https://localhost:8080/"
        },
        "id": "ki0n0n8rGk8M",
        "outputId": "76d32cce-d5c6-42cf-8a17-e9971dad7554"
      },
      "source": [
        "player_name = input()"
      ],
      "execution_count": null,
      "outputs": [
        {
          "output_type": "stream",
          "text": [
            "Lionel Andrés Messi Cuccittini\n"
          ],
          "name": "stdout"
        }
      ]
    },
    {
      "cell_type": "markdown",
      "metadata": {
        "id": "pFXe31rZG1Nx"
      },
      "source": [
        " **<h1>Loading and Normalizing Player Data**"
      ]
    },
    {
      "cell_type": "code",
      "metadata": {
        "colab": {
          "base_uri": "https://localhost:8080/",
          "height": 253
        },
        "id": "w-nWRW5zG03l",
        "outputId": "f2890350-07b2-4917-e1c3-5850a186ff10"
      },
      "source": [
        "player_data = summary[(summary[\"player_name\"] == player_name)]\n",
        "player_data.replace([0], np.nan, inplace = True)\n",
        "player_data.dropna(how= 'all', axis = 1, inplace= True)\n",
        "player_data = player_data.drop(columns='player_name')\n",
        "player_data"
      ],
      "execution_count": null,
      "outputs": [
        {
          "output_type": "stream",
          "text": [
            "/usr/local/lib/python3.7/dist-packages/pandas/core/frame.py:4389: SettingWithCopyWarning: \n",
            "A value is trying to be set on a copy of a slice from a DataFrame\n",
            "\n",
            "See the caveats in the documentation: https://pandas.pydata.org/pandas-docs/stable/user_guide/indexing.html#returning-a-view-versus-a-copy\n",
            "  method=method,\n",
            "/usr/local/lib/python3.7/dist-packages/ipykernel_launcher.py:3: SettingWithCopyWarning: \n",
            "A value is trying to be set on a copy of a slice from a DataFrame\n",
            "\n",
            "See the caveats in the documentation: https://pandas.pydata.org/pandas-docs/stable/user_guide/indexing.html#returning-a-view-versus-a-copy\n",
            "  This is separate from the ipykernel package so we can avoid doing imports until\n"
          ],
          "name": "stderr"
        },
        {
          "output_type": "execute_result",
          "data": {
            "text/html": [
              "<div>\n",
              "<style scoped>\n",
              "    .dataframe tbody tr th:only-of-type {\n",
              "        vertical-align: middle;\n",
              "    }\n",
              "\n",
              "    .dataframe tbody tr th {\n",
              "        vertical-align: top;\n",
              "    }\n",
              "\n",
              "    .dataframe thead th {\n",
              "        text-align: right;\n",
              "    }\n",
              "</style>\n",
              "<table border=\"1\" class=\"dataframe\">\n",
              "  <thead>\n",
              "    <tr style=\"text-align: right;\">\n",
              "      <th></th>\n",
              "      <th>T_Pass</th>\n",
              "      <th>Ball_Receipt</th>\n",
              "      <th>Carry</th>\n",
              "      <th>Interception</th>\n",
              "      <th>Pressure</th>\n",
              "      <th>Block</th>\n",
              "      <th>Ball_Recovery</th>\n",
              "      <th>Shot</th>\n",
              "      <th>Dribble</th>\n",
              "    </tr>\n",
              "  </thead>\n",
              "  <tbody>\n",
              "    <tr>\n",
              "      <th>59</th>\n",
              "      <td>1477</td>\n",
              "      <td>469</td>\n",
              "      <td>406</td>\n",
              "      <td>2</td>\n",
              "      <td>69</td>\n",
              "      <td>4</td>\n",
              "      <td>23</td>\n",
              "      <td>33</td>\n",
              "      <td>35</td>\n",
              "    </tr>\n",
              "  </tbody>\n",
              "</table>\n",
              "</div>"
            ],
            "text/plain": [
              "    T_Pass  Ball_Receipt  Carry  ...  Ball_Recovery  Shot  Dribble\n",
              "59    1477           469    406  ...             23    33       35\n",
              "\n",
              "[1 rows x 9 columns]"
            ]
          },
          "metadata": {
            "tags": []
          },
          "execution_count": 10
        }
      ]
    },
    {
      "cell_type": "code",
      "metadata": {
        "colab": {
          "base_uri": "https://localhost:8080/"
        },
        "id": "6fiv-QI_G7qn",
        "outputId": "43e386cc-b54b-40f1-9063-b5c7896b2b96"
      },
      "source": [
        "arr = (player_data.columns)\n",
        "d1 = (player_data.values)\n",
        "count = 0\n",
        "d = [0]*len(arr)\n",
        "for i in range(len(arr)):\n",
        "  d[i] = d1[0][i]\n",
        "for i in range(len(arr)):\n",
        "  for j in range(len(dflist)):\n",
        "    if arr[i] == dflist[j]:\n",
        "      if d[i] >= mean_vals[j]:\n",
        "        count += 1\n",
        "      d[i] = d[i]/mean_vals[j]\n",
        "s= 60/max(d)\n",
        "for i in range(len(d)):\n",
        "  d[i] *= s \n",
        "count = count / len(d)\n",
        "score = 0.855917149958575\n",
        "print(arr, d)"
      ],
      "execution_count": null,
      "outputs": [
        {
          "output_type": "stream",
          "text": [
            "Index(['T_Pass', 'Ball_Receipt', 'Carry', 'Interception', 'Pressure', 'Block',\n",
            "       'Ball_Recovery', 'Shot', 'Dribble'],\n",
            "      dtype='object') [20.658102985019696, 25.062579102798484, 23.03718082723608, 5.588235294117648, 9.203229203229203, 6.523605150214593, 14.78849407783418, 60.0, 57.82608695652174]\n"
          ],
          "name": "stdout"
        }
      ]
    },
    {
      "cell_type": "code",
      "metadata": {
        "colab": {
          "base_uri": "https://localhost:8080/",
          "height": 512
        },
        "id": "720t7Kv4HAzQ",
        "outputId": "fb71a0b4-c9d2-4209-a5ed-e55b9b0bf031"
      },
      "source": [
        "#profile-radar\n",
        "footstats = arr\n",
        "\n",
        "values = d\n",
        "\n",
        "plt.figure(figsize=(12,6))\n",
        "\n",
        "N = len(footstats)\n",
        "x_as = [n / float(N) * 2 * math.pi for n in range(N)]\n",
        "\n",
        "values += values[:1]\n",
        "x_as += x_as[:1]\n",
        "\n",
        "\n",
        "plt.rc('axes', linewidth=0.5, edgecolor=\"#888888\")\n",
        "ax = plt.subplot(111, polar=True)\n",
        "\n",
        "ax.set_theta_offset(math.pi / 2)\n",
        "ax.set_theta_direction(-1)\n",
        "\n",
        "ax.set_rlabel_position(0)\n",
        "\n",
        "ax.xaxis.grid(True, color=\"#888888\", linestyle='solid', linewidth=0.5)\n",
        "ax.yaxis.grid(True, color=\"#888888\", linestyle='solid', linewidth=0.5)\n",
        "\n",
        "plt.xticks(x_as[:-1], [])\n",
        "plt.yticks(values[:-1], [])\n",
        "\n",
        "ax.plot(x_as, values, linewidth=0, linestyle='solid', zorder=3)\n",
        "ax.fill(x_as, values, 'b', alpha=0.3)\n",
        "\n",
        "plt.ylim(0, 60) \n",
        "\n",
        "for i in range(N):\n",
        "    angle_rad = i / float(N) * 2 * math.pi\n",
        "\n",
        "    if angle_rad == 0:\n",
        "        ha, distance_ax = \"center\", 10\n",
        "    elif 0 < angle_rad < math.pi:\n",
        "        ha, distance_ax = \"left\", 1\n",
        "    elif angle_rad == math.pi:\n",
        "        ha, distance_ax = \"center\", 1\n",
        "    else:\n",
        "        ha, distance_ax = \"right\", 1\n",
        "\n",
        "    ax.text(angle_rad, 65 + distance_ax, footstats[i], size=10, horizontalalignment=ha, verticalalignment=\"center\")\n",
        "\n",
        "\n",
        "# Show polar plot\n",
        "plt.show()\n",
        "score_2 = 0.9033834586466166\n",
        "print(\"Player Name : \", player_name, \"\\nRating : \", (count*100))\n",
        "player_data"
      ],
      "execution_count": null,
      "outputs": [
        {
          "output_type": "display_data",
          "data": {
            "image/png": "[encoded data removed]",
            "text/plain": [
              "<Figure size 864x432 with 1 Axes>"
            ]
          },
          "metadata": {
            "tags": [],
            "needs_background": "light"
          }
        },
        {
          "output_type": "stream",
          "text": [
            "Player Name :  Lionel Andrés Messi Cuccittini \n",
            "Rating :  100.0\n"
          ],
          "name": "stdout"
        },
        {
          "output_type": "execute_result",
          "data": {
            "text/html": [
              "<div>\n",
              "<style scoped>\n",
              "    .dataframe tbody tr th:only-of-type {\n",
              "        vertical-align: middle;\n",
              "    }\n",
              "\n",
              "    .dataframe tbody tr th {\n",
              "        vertical-align: top;\n",
              "    }\n",
              "\n",
              "    .dataframe thead th {\n",
              "        text-align: right;\n",
              "    }\n",
              "</style>\n",
              "<table border=\"1\" class=\"dataframe\">\n",
              "  <thead>\n",
              "    <tr style=\"text-align: right;\">\n",
              "      <th></th>\n",
              "      <th>T_Pass</th>\n",
              "      <th>Ball_Receipt</th>\n",
              "      <th>Carry</th>\n",
              "      <th>Interception</th>\n",
              "      <th>Pressure</th>\n",
              "      <th>Block</th>\n",
              "      <th>Ball_Recovery</th>\n",
              "      <th>Shot</th>\n",
              "      <th>Dribble</th>\n",
              "    </tr>\n",
              "  </thead>\n",
              "  <tbody>\n",
              "    <tr>\n",
              "      <th>59</th>\n",
              "      <td>1477</td>\n",
              "      <td>469</td>\n",
              "      <td>406</td>\n",
              "      <td>2</td>\n",
              "      <td>69</td>\n",
              "      <td>4</td>\n",
              "      <td>23</td>\n",
              "      <td>33</td>\n",
              "      <td>35</td>\n",
              "    </tr>\n",
              "  </tbody>\n",
              "</table>\n",
              "</div>"
            ],
            "text/plain": [
              "    T_Pass  Ball_Receipt  Carry  ...  Ball_Recovery  Shot  Dribble\n",
              "59    1477           469    406  ...             23    33       35\n",
              "\n",
              "[1 rows x 9 columns]"
            ]
          },
          "metadata": {
            "tags": []
          },
          "execution_count": 12
        }
      ]
    },
    {
      "cell_type": "markdown",
      "metadata": {
        "id": "i8xZFfMoHEiG"
      },
      "source": [
        " **<h1>HeatMaps**"
      ]
    },
    {
      "cell_type": "code",
      "metadata": {
        "id": "KDcjDYC1HDlF"
      },
      "source": [
        "from matplotlib.patches import Arc, Rectangle, ConnectionPatch\n",
        "from matplotlib.offsetbox import  OffsetImage\n",
        "import seaborn as sns\n",
        "import squarify\n",
        "\n",
        "def draw_pitch(ax):\n",
        "    # size of the pitch is 120, 80\n",
        "    #Create figure\n",
        "\n",
        "    #Pitch Outline & Centre Line\n",
        "    plt.plot([0,0],[0,80], color=\"black\")\n",
        "    plt.plot([0,120],[80,80], color=\"black\")\n",
        "    plt.plot([120,120],[80,0], color=\"black\")\n",
        "    plt.plot([120,0],[0,0], color=\"black\")\n",
        "    plt.plot([60,60],[0,80], color=\"black\")\n",
        "\n",
        "    #Left Penalty Area\n",
        "    plt.plot([14.6,14.6],[57.8,22.2],color=\"black\")\n",
        "    plt.plot([0,14.6],[57.8,57.8],color=\"black\")\n",
        "    plt.plot([0,14.6],[22.2,22.2],color=\"black\")\n",
        "\n",
        "    #Right Penalty Area\n",
        "    plt.plot([120,105.4],[57.8,57.8],color=\"black\")\n",
        "    plt.plot([105.4,105.4],[57.8,22.5],color=\"black\")\n",
        "    plt.plot([120, 105.4],[22.5,22.5],color=\"black\")\n",
        "\n",
        "    #Left 6-yard Box\n",
        "    plt.plot([0,4.9],[48,48],color=\"black\")\n",
        "    plt.plot([4.9,4.9],[48,32],color=\"black\")\n",
        "    plt.plot([0,4.9],[32,32],color=\"black\")\n",
        "\n",
        "    #Right 6-yard Box\n",
        "    plt.plot([120,115.1],[48,48],color=\"black\")\n",
        "    plt.plot([115.1,115.1],[48,32],color=\"black\")\n",
        "    plt.plot([120,115.1],[32,32],color=\"black\")\n",
        "\n",
        "    #Prepare Circles\n",
        "    centreCircle = plt.Circle((60,40),8.1,color=\"black\",fill=False)\n",
        "    centreSpot = plt.Circle((60,40),0.71,color=\"black\")\n",
        "    leftPenSpot = plt.Circle((9.7,40),0.71,color=\"black\")\n",
        "    rightPenSpot = plt.Circle((110.3,40),0.71,color=\"black\")\n",
        "\n",
        "    #Draw Circles\n",
        "    ax.add_patch(centreCircle)\n",
        "    ax.add_patch(centreSpot)\n",
        "    ax.add_patch(leftPenSpot)\n",
        "    ax.add_patch(rightPenSpot)\n",
        "\n",
        "    #Prepare Arcs\n",
        "    # arguments for arc\n",
        "    # x, y coordinate of centerpoint of arc\n",
        "    # width, height as arc might not be circle, but oval\n",
        "    # angle: degree of rotation of the shape, anti-clockwise\n",
        "    # theta1, theta2, start and end location of arc in degree\n",
        "    leftArc = Arc((9.7,40),height=16.2,width=16.2,angle=0,theta1=310,theta2=50,color=\"black\")\n",
        "    rightArc = Arc((110.3,40),height=16.2,width=16.2,angle=0,theta1=130,theta2=230,color=\"black\")\n",
        "\n",
        "    #Draw Arcs\n",
        "    ax.add_patch(leftArc)\n",
        "    ax.add_patch(rightArc)"
      ],
      "execution_count": null,
      "outputs": []
    },
    {
      "cell_type": "code",
      "metadata": {
        "colab": {
          "base_uri": "https://localhost:8080/",
          "height": 320
        },
        "id": "7cdxayRPHK3w",
        "outputId": "757ca4dc-0cb2-4f53-98d9-18f9cd90d4d3"
      },
      "source": [
        "fig=plt.figure()\n",
        "fig.set_size_inches(7, 5)\n",
        "ax=fig.add_subplot(1,1,1)\n",
        "draw_pitch(ax)\n",
        "plt.show()"
      ],
      "execution_count": null,
      "outputs": [
        {
          "output_type": "display_data",
          "data": {
            "image/png": "[encoded data removed]",
            "text/plain": [
              "<Figure size 504x360 with 1 Axes>"
            ]
          },
          "metadata": {
            "tags": [],
            "needs_background": "light"
          }
        }
      ]
    },
    {
      "cell_type": "code",
      "metadata": {
        "colab": {
          "base_uri": "https://localhost:8080/",
          "height": 302
        },
        "id": "2C1gE7_JHLrs",
        "outputId": "a8d7134c-6787-4dd7-9dff-a962072375ba"
      },
      "source": [
        "shot_data = all_data[(all_data['type_name'] == \"Shot\") & (all_data['team_name'] == 'Barcelona')]\n",
        "\n",
        "fig=plt.figure()\n",
        "fig.set_size_inches(7, 5)\n",
        "ax=fig.add_subplot(1,1,1)\n",
        "draw_pitch(ax)\n",
        "plt.axis('off')\n",
        "\n",
        "for i in range(len(shot_data)):\n",
        "    # can also differentiate different half by different color\n",
        "    color = \"red\" if shot_data.iloc[i]['shot_outcome_name'] == \"Goal\" else \"black\"\n",
        "    ax.annotate(\"\", xy = (shot_data.iloc[i]['shot_end_location'][0], shot_data.iloc[i]['shot_end_location'][1]), xycoords = 'data',\n",
        "           xytext = (shot_data.iloc[i]['location'][0], shot_data.iloc[i]['location'][1]), textcoords = 'data',\n",
        "           arrowprops=dict(arrowstyle=\"->\",connectionstyle=\"arc3\", color = color),)\n",
        "plt.ylim(0, 80)\n",
        "plt.xlim(0, 120)\n",
        "plt.show()"
      ],
      "execution_count": null,
      "outputs": [
        {
          "output_type": "display_data",
          "data": {
            "image/png": "[encoded data removed]",
            "text/plain": [
              "<Figure size 504x360 with 1 Axes>"
            ]
          },
          "metadata": {
            "tags": [],
            "needs_background": "light"
          }
        }
      ]
    },
    {
      "cell_type": "code",
      "metadata": {
        "id": "dHmlSPQ9HRCB"
      },
      "source": [
        "def draw_half_pitch(ax):\n",
        "    # focus on only half of the pitch\n",
        "    #Pitch Outline & Centre Line\n",
        "    Pitch = Rectangle([60,0], width = 60, height = 80, fill = False)\n",
        "    #Right Penalty Area\n",
        "    RightPenalty = Rectangle([105.4,22.3], width = 14.6, height = 35.3, fill = False)\n",
        "\n",
        "    #Right 6-yard Box\n",
        "    RightSixYard = Rectangle([115.1,32], width = 4.9, height = 16, fill = False)\n",
        "\n",
        "\n",
        "    #Prepare Circles\n",
        "    centreCircle = Arc((60,40),width = 8.1, height = 8.1, angle=0,theta1=270,theta2=90,color=\"black\")\n",
        "    centreSpot = plt.Circle((60,40),0.71,color=\"black\")\n",
        "    rightPenSpot = plt.Circle((110.3,40),0.71,color=\"black\")\n",
        "    rightArc = Arc((110.3,40),height=16.2,width=16.2,angle=0,theta1=130,theta2=230,color=\"black\")\n",
        "    \n",
        "    element = [Pitch, RightPenalty, RightSixYard, centreCircle, centreSpot, rightPenSpot, rightArc]\n",
        "    for i in element:\n",
        "        ax.add_patch(i)"
      ],
      "execution_count": null,
      "outputs": []
    },
    {
      "cell_type": "code",
      "metadata": {
        "colab": {
          "base_uri": "https://localhost:8080/",
          "height": 302
        },
        "id": "N5jmUjmzHSIt",
        "outputId": "1302eeec-7e1b-4ea2-ef85-9f7fffb41576"
      },
      "source": [
        "fig=plt.figure()\n",
        "fig.set_size_inches(7, 5)\n",
        "ax=fig.add_subplot(1,1,1)\n",
        "draw_half_pitch(ax)\n",
        "plt.axis('off')\n",
        "Score = 0.8813454846727423\n",
        "# draw the scatter plot for goals\n",
        "x_coord_goal = [location[0] for i, location in enumerate(shot_data[\"location\"]) if shot_data.iloc[i]['shot_outcome_name'] == \"Goal\"]\n",
        "y_coord_goal = [location[1] for i, location in enumerate(shot_data[\"location\"]) if shot_data.iloc[i]['shot_outcome_name'] == \"Goal\"]\n",
        "Score_2 = 0.9346898496240602\n",
        "# shots that end up with no goal\n",
        "x_coord = [location[0] for i, location in enumerate(shot_data[\"location\"]) if shot_data.iloc[i]['shot_outcome_name'] != \"Goal\"]\n",
        "y_coord = [location[1] for i, location in enumerate(shot_data[\"location\"]) if shot_data.iloc[i]['shot_outcome_name'] != \"Goal\"]\n",
        "# put the two scatter plots on to the pitch\n",
        "ax.scatter(x_coord_goal, y_coord_goal, c = 'red', label = 'goal')\n",
        "ax.scatter(x_coord, y_coord, c = 'blue', label = 'shots')\n",
        "plt.ylim(0, 80)\n",
        "plt.xlim(0, 120)\n",
        "plt.legend(loc='upper right')\n",
        "plt.axis('off')\n",
        "plt.show()"
      ],
      "execution_count": null,
      "outputs": [
        {
          "output_type": "display_data",
          "data": {
            "image/png": "[encoded data removed]",
            "text/plain": [
              "<Figure size 504x360 with 1 Axes>"
            ]
          },
          "metadata": {
            "tags": [],
            "needs_background": "light"
          }
        }
      ]
    },
    {
      "cell_type": "code",
      "metadata": {
        "colab": {
          "base_uri": "https://localhost:8080/",
          "height": 413
        },
        "id": "dDIyT1f-HWuL",
        "outputId": "c5cdf457-10a0-42c7-bde2-117d8a93fc9f"
      },
      "source": [
        "# we use a joint plot to see the density of the shot distribution across the 2 axes of the pitch\n",
        "joint_shot_chart = sns.jointplot(x_coord, y_coord, kind='scatter', space=0, alpha=0.5)\n",
        "joint_shot_chart.fig.set_size_inches(7,5)\n",
        "ax = joint_shot_chart.ax_joint\n",
        "# overlaying the plot with a pitch\n",
        "draw_half_pitch(ax)\n",
        "ax.set_xlim(0.5,120.5)\n",
        "ax.set_ylim(0.5,80.5)\n",
        "# draw the scatter plot for goals\n",
        "x_coord_goal = [location[0] for i, location in enumerate(shot_data[\"location\"]) if shot_data.iloc[i]['shot_outcome_name'] == \"Goal\"]\n",
        "y_coord_goal = [location[1] for i, location in enumerate(shot_data[\"location\"]) if shot_data.iloc[i]['shot_outcome_name'] == \"Goal\"]\n",
        "# shots that end up with no goal\n",
        "x_coord = [location[0] for i, location in enumerate(shot_data[\"location\"]) if shot_data.iloc[i]['shot_outcome_name'] != \"Goal\"]\n",
        "y_coord = [location[1] for i, location in enumerate(shot_data[\"location\"]) if shot_data.iloc[i]['shot_outcome_name'] != \"Goal\"]\n",
        "# put the two scatter plots on to the pitch\n",
        "ax.scatter(x_coord, y_coord, c = 'b', label = 'shots')\n",
        "ax.scatter(x_coord_goal, y_coord_goal, c = 'r', label = 'goal')\n",
        "# Get rid of axis labels and tick marks\n",
        "ax.set_xlabel('')\n",
        "ax.set_ylabel('')\n",
        "joint_shot_chart.ax_marg_x.set_axis_off()\n",
        "ax.set_axis_off()\n",
        "plt.ylim(-.5, 80)\n",
        "plt.axis('off')\n",
        "plt.show()"
      ],
      "execution_count": null,
      "outputs": [
        {
          "output_type": "stream",
          "text": [
            "/usr/local/lib/python3.7/dist-packages/seaborn/_decorators.py:43: FutureWarning: Pass the following variables as keyword args: x, y. From version 0.12, the only valid positional argument will be `data`, and passing other arguments without an explicit keyword will result in an error or misinterpretation.\n",
            "  FutureWarning\n"
          ],
          "name": "stderr"
        },
        {
          "output_type": "display_data",
          "data": {
            "image/png": "[encoded data removed]",
            "text/plain": [
              "<Figure size 504x360 with 3 Axes>"
            ]
          },
          "metadata": {
            "tags": [],
            "needs_background": "light"
          }
        }
      ]
    },
    {
      "cell_type": "code",
      "metadata": {
        "colab": {
          "base_uri": "https://localhost:8080/",
          "height": 300
        },
        "id": "b4OUA3sGHY9z",
        "outputId": "961043e7-3210-418f-ac1f-b243432b729a"
      },
      "source": [
        "import matplotlib\n",
        "dataDribble= summary[summary[\"Shot\"]>5]\n",
        "#Utilise matplotlib to scale our goal numbers between the min and max, then assign this scale to our values.\n",
        "norm = matplotlib.colors.Normalize(vmin=min(dataDribble.Shot), vmax=max(dataDribble.Shot))\n",
        "colors = [matplotlib.cm.Blues(norm(value)) for value in dataDribble.Shot]\n",
        "\n",
        "#Create our plot and resize it.\n",
        "fig = plt.gcf()\n",
        "ax = fig.add_subplot()\n",
        "fig.set_size_inches(16, 4.5)\n",
        "\n",
        "#Use squarify to plot our data, label it and add colours. We add an alpha layer to ensure black labels show through\n",
        "squarify.plot(label=dataDribble.player_name,sizes=dataDribble.Shot, color = colors, alpha=.6)\n",
        "plt.title(\"Shot\",fontsize=23,fontweight=\"bold\")\n",
        "\n",
        "#Remove our axes and display the plot\n",
        "plt.axis('off')\n",
        "plt.show()"
      ],
      "execution_count": null,
      "outputs": [
        {
          "output_type": "display_data",
          "data": {
            "image/png": "[encoded data removed]",
            "text/plain": [
              "<Figure size 1152x324 with 1 Axes>"
            ]
          },
          "metadata": {
            "tags": [],
            "needs_background": "light"
          }
        }
      ]
    },
    {
      "cell_type": "markdown",
      "metadata": {
        "id": "55JHP61QK75B"
      },
      "source": [
        "**<h3>PREDICT**"
      ]
    },
    {
      "cell_type": "code",
      "metadata": {
        "id": "nVyjSCVsJ8d_"
      },
      "source": [
        "# Read data from the CSV into a dataframe\n",
        "\n",
        "raw_data_1 = pd.read_csv('/content/drive/MyDrive/dataSets/SoccerData/2000-01.csv')\n",
        "raw_data_2 = pd.read_csv('/content/drive/MyDrive/dataSets/SoccerData/2001-02.csv')\n",
        "raw_data_3 = pd.read_csv('/content/drive/MyDrive/dataSets/SoccerData/2002-03.csv')\n",
        "raw_data_4 = pd.read_csv('/content/drive/MyDrive/dataSets/SoccerData/2003-04.csv')\n",
        "raw_data_5 = pd.read_csv('/content/drive/MyDrive/dataSets/SoccerData/2004-05.csv')\n",
        "raw_data_6 = pd.read_csv('/content/drive/MyDrive/dataSets/SoccerData/2005-06.csv')\n",
        "raw_data_7 = pd.read_csv('/content/drive/MyDrive/dataSets/SoccerData/2006-07.csv')\n",
        "raw_data_8 = pd.read_csv('/content/drive/MyDrive/dataSets/SoccerData/2007-08.csv')\n",
        "raw_data_9 = pd.read_csv('/content/drive/MyDrive/dataSets/SoccerData/2008-09.csv')\n",
        "raw_data_10 = pd.read_csv('/content/drive/MyDrive/dataSets/SoccerData/2009-10.csv')\n",
        "raw_data_11 = pd.read_csv('/content/drive/MyDrive/dataSets/SoccerData/2010-11.csv')\n",
        "raw_data_12 = pd.read_csv('/content/drive/MyDrive/dataSets/SoccerData/2011-12.csv')\n",
        "raw_data_13 = pd.read_csv('/content/drive/MyDrive/dataSets/SoccerData/2012-13.csv')\n",
        "raw_data_14 = pd.read_csv('/content/drive/MyDrive/dataSets/SoccerData/2013-14.csv')\n",
        "raw_data_15 = pd.read_csv('/content/drive/MyDrive/dataSets/SoccerData/2014-15.csv')\n",
        "raw_data_16 = pd.read_csv('/content/drive/MyDrive/dataSets/SoccerData/2015-16.csv')"
      ],
      "execution_count": null,
      "outputs": []
    },
    {
      "cell_type": "code",
      "metadata": {
        "id": "3QtqQVeSK2aW"
      },
      "source": [
        "# Selecting the features\n",
        "\n",
        "raw_data_1 =raw_data_1[['HomeTeam','AwayTeam','FTHG','FTAG','FTR','HTHG','HTAG','HTR','HS','AS','HST','AST','HF','AF','HC','AC','HY','AY','HR','AR']]\n",
        "raw_data_2 =raw_data_1[['HomeTeam','AwayTeam','FTHG','FTAG','FTR','HTHG','HTAG','HTR','HS','AS','HST','AST','HF','AF','HC','AC','HY','AY','HR','AR']]\n",
        "raw_data_3 =raw_data_1[['HomeTeam','AwayTeam','FTHG','FTAG','FTR','HTHG','HTAG','HTR','HS','AS','HST','AST','HF','AF','HC','AC','HY','AY','HR','AR']]\n",
        "raw_data_4 =raw_data_1[['HomeTeam','AwayTeam','FTHG','FTAG','FTR','HTHG','HTAG','HTR','HS','AS','HST','AST','HF','AF','HC','AC','HY','AY','HR','AR']]\n",
        "raw_data_5 =raw_data_1[['HomeTeam','AwayTeam','FTHG','FTAG','FTR','HTHG','HTAG','HTR','HS','AS','HST','AST','HF','AF','HC','AC','HY','AY','HR','AR']]\n",
        "raw_data_6 =raw_data_1[['HomeTeam','AwayTeam','FTHG','FTAG','FTR','HTHG','HTAG','HTR','HS','AS','HST','AST','HF','AF','HC','AC','HY','AY','HR','AR']]\n",
        "raw_data_7 =raw_data_1[['HomeTeam','AwayTeam','FTHG','FTAG','FTR','HTHG','HTAG','HTR','HS','AS','HST','AST','HF','AF','HC','AC','HY','AY','HR','AR']]\n",
        "raw_data_8 =raw_data_1[['HomeTeam','AwayTeam','FTHG','FTAG','FTR','HTHG','HTAG','HTR','HS','AS','HST','AST','HF','AF','HC','AC','HY','AY','HR','AR']]\n",
        "raw_data_9 =raw_data_1[['HomeTeam','AwayTeam','FTHG','FTAG','FTR','HTHG','HTAG','HTR','HS','AS','HST','AST','HF','AF','HC','AC','HY','AY','HR','AR']]\n",
        "raw_data_10 =raw_data_1[['HomeTeam','AwayTeam','FTHG','FTAG','FTR','HTHG','HTAG','HTR','HS','AS','HST','AST','HF','AF','HC','AC','HY','AY','HR','AR']]\n",
        "raw_data_11 =raw_data_1[['HomeTeam','AwayTeam','FTHG','FTAG','FTR','HTHG','HTAG','HTR','HS','AS','HST','AST','HF','AF','HC','AC','HY','AY','HR','AR']]\n",
        "raw_data_12 =raw_data_1[['HomeTeam','AwayTeam','FTHG','FTAG','FTR','HTHG','HTAG','HTR','HS','AS','HST','AST','HF','AF','HC','AC','HY','AY','HR','AR']]\n",
        "raw_data_13 =raw_data_1[['HomeTeam','AwayTeam','FTHG','FTAG','FTR','HTHG','HTAG','HTR','HS','AS','HST','AST','HF','AF','HC','AC','HY','AY','HR','AR']]\n",
        "raw_data_14 =raw_data_1[['HomeTeam','AwayTeam','FTHG','FTAG','FTR','HTHG','HTAG','HTR','HS','AS','HST','AST','HF','AF','HC','AC','HY','AY','HR','AR']]\n",
        "raw_data_15 =raw_data_1[['HomeTeam','AwayTeam','FTHG','FTAG','FTR','HTHG','HTAG','HTR','HS','AS','HST','AST','HF','AF','HC','AC','HY','AY','HR','AR']]\n",
        "raw_data_16 =raw_data_1[['HomeTeam','AwayTeam','FTHG','FTAG','FTR','HTHG','HTAG','HTR','HS','AS','HST','AST','HF','AF','HC','AC','HY','AY','HR','AR']]"
      ],
      "execution_count": null,
      "outputs": []
    },
    {
      "cell_type": "code",
      "metadata": {
        "id": "grTGA1sEL1Az"
      },
      "source": [
        "# Concating the data on one dataframe\n",
        "\n",
        "playing_stat = pd.concat([raw_data_1,raw_data_2,raw_data_3,raw_data_4,raw_data_5,raw_data_6,raw_data_7,raw_data_8,raw_data_9,raw_data_10,raw_data_11,raw_data_12,raw_data_13,raw_data_14,raw_data_15,raw_data_16],ignore_index=True)"
      ],
      "execution_count": null,
      "outputs": []
    },
    {
      "cell_type": "code",
      "metadata": {
        "colab": {
          "base_uri": "https://localhost:8080/",
          "height": 202
        },
        "id": "CTIWEkWJL2vS",
        "outputId": "b9529840-1e93-4a37-9963-f48e6e987421"
      },
      "source": [
        "playing_stat.head()"
      ],
      "execution_count": null,
      "outputs": [
        {
          "output_type": "execute_result",
          "data": {
            "text/html": [
              "<div>\n",
              "<style scoped>\n",
              "    .dataframe tbody tr th:only-of-type {\n",
              "        vertical-align: middle;\n",
              "    }\n",
              "\n",
              "    .dataframe tbody tr th {\n",
              "        vertical-align: top;\n",
              "    }\n",
              "\n",
              "    .dataframe thead th {\n",
              "        text-align: right;\n",
              "    }\n",
              "</style>\n",
              "<table border=\"1\" class=\"dataframe\">\n",
              "  <thead>\n",
              "    <tr style=\"text-align: right;\">\n",
              "      <th></th>\n",
              "      <th>HomeTeam</th>\n",
              "      <th>AwayTeam</th>\n",
              "      <th>FTHG</th>\n",
              "      <th>FTAG</th>\n",
              "      <th>FTR</th>\n",
              "      <th>HTHG</th>\n",
              "      <th>HTAG</th>\n",
              "      <th>HTR</th>\n",
              "      <th>HS</th>\n",
              "      <th>AS</th>\n",
              "      <th>HST</th>\n",
              "      <th>AST</th>\n",
              "      <th>HF</th>\n",
              "      <th>AF</th>\n",
              "      <th>HC</th>\n",
              "      <th>AC</th>\n",
              "      <th>HY</th>\n",
              "      <th>AY</th>\n",
              "      <th>HR</th>\n",
              "      <th>AR</th>\n",
              "    </tr>\n",
              "  </thead>\n",
              "  <tbody>\n",
              "    <tr>\n",
              "      <th>0</th>\n",
              "      <td>Charlton</td>\n",
              "      <td>Man City</td>\n",
              "      <td>4</td>\n",
              "      <td>0</td>\n",
              "      <td>H</td>\n",
              "      <td>2</td>\n",
              "      <td>0</td>\n",
              "      <td>H</td>\n",
              "      <td>17</td>\n",
              "      <td>8</td>\n",
              "      <td>14</td>\n",
              "      <td>4</td>\n",
              "      <td>13</td>\n",
              "      <td>12</td>\n",
              "      <td>6</td>\n",
              "      <td>6</td>\n",
              "      <td>1</td>\n",
              "      <td>2</td>\n",
              "      <td>0</td>\n",
              "      <td>0</td>\n",
              "    </tr>\n",
              "    <tr>\n",
              "      <th>1</th>\n",
              "      <td>Chelsea</td>\n",
              "      <td>West Ham</td>\n",
              "      <td>4</td>\n",
              "      <td>2</td>\n",
              "      <td>H</td>\n",
              "      <td>1</td>\n",
              "      <td>0</td>\n",
              "      <td>H</td>\n",
              "      <td>17</td>\n",
              "      <td>12</td>\n",
              "      <td>10</td>\n",
              "      <td>5</td>\n",
              "      <td>19</td>\n",
              "      <td>14</td>\n",
              "      <td>7</td>\n",
              "      <td>7</td>\n",
              "      <td>1</td>\n",
              "      <td>2</td>\n",
              "      <td>0</td>\n",
              "      <td>0</td>\n",
              "    </tr>\n",
              "    <tr>\n",
              "      <th>2</th>\n",
              "      <td>Coventry</td>\n",
              "      <td>Middlesbrough</td>\n",
              "      <td>1</td>\n",
              "      <td>3</td>\n",
              "      <td>A</td>\n",
              "      <td>1</td>\n",
              "      <td>1</td>\n",
              "      <td>D</td>\n",
              "      <td>6</td>\n",
              "      <td>16</td>\n",
              "      <td>3</td>\n",
              "      <td>9</td>\n",
              "      <td>15</td>\n",
              "      <td>21</td>\n",
              "      <td>8</td>\n",
              "      <td>4</td>\n",
              "      <td>5</td>\n",
              "      <td>3</td>\n",
              "      <td>1</td>\n",
              "      <td>0</td>\n",
              "    </tr>\n",
              "    <tr>\n",
              "      <th>3</th>\n",
              "      <td>Derby</td>\n",
              "      <td>Southampton</td>\n",
              "      <td>2</td>\n",
              "      <td>2</td>\n",
              "      <td>D</td>\n",
              "      <td>1</td>\n",
              "      <td>2</td>\n",
              "      <td>A</td>\n",
              "      <td>6</td>\n",
              "      <td>13</td>\n",
              "      <td>4</td>\n",
              "      <td>6</td>\n",
              "      <td>11</td>\n",
              "      <td>13</td>\n",
              "      <td>5</td>\n",
              "      <td>8</td>\n",
              "      <td>1</td>\n",
              "      <td>1</td>\n",
              "      <td>0</td>\n",
              "      <td>0</td>\n",
              "    </tr>\n",
              "    <tr>\n",
              "      <th>4</th>\n",
              "      <td>Leeds</td>\n",
              "      <td>Everton</td>\n",
              "      <td>2</td>\n",
              "      <td>0</td>\n",
              "      <td>H</td>\n",
              "      <td>2</td>\n",
              "      <td>0</td>\n",
              "      <td>H</td>\n",
              "      <td>17</td>\n",
              "      <td>12</td>\n",
              "      <td>8</td>\n",
              "      <td>6</td>\n",
              "      <td>21</td>\n",
              "      <td>20</td>\n",
              "      <td>6</td>\n",
              "      <td>4</td>\n",
              "      <td>1</td>\n",
              "      <td>3</td>\n",
              "      <td>0</td>\n",
              "      <td>0</td>\n",
              "    </tr>\n",
              "  </tbody>\n",
              "</table>\n",
              "</div>"
            ],
            "text/plain": [
              "   HomeTeam       AwayTeam  FTHG  FTAG FTR  HTHG  ...  HC AC  HY  AY  HR  AR\n",
              "0  Charlton       Man City     4     0   H     2  ...   6  6   1   2   0   0\n",
              "1   Chelsea       West Ham     4     2   H     1  ...   7  7   1   2   0   0\n",
              "2  Coventry  Middlesbrough     1     3   A     1  ...   8  4   5   3   1   0\n",
              "3     Derby    Southampton     2     2   D     1  ...   5  8   1   1   0   0\n",
              "4     Leeds        Everton     2     0   H     2  ...   6  4   1   3   0   0\n",
              "\n",
              "[5 rows x 20 columns]"
            ]
          },
          "metadata": {
            "tags": []
          },
          "execution_count": 23
        }
      ]
    },
    {
      "cell_type": "code",
      "metadata": {
        "id": "qhB99AiNL4zs"
      },
      "source": [
        "# Creating csv file from the merged dataframe\n",
        "\n",
        "playing_stat.to_csv(\"Merged_dataset.csv\")"
      ],
      "execution_count": null,
      "outputs": []
    },
    {
      "cell_type": "code",
      "metadata": {
        "id": "mEOsW9cML8Ne"
      },
      "source": [
        "df = pd.read_csv(\"/content/drive/MyDrive/dataSets/SoccerData/Merged_dataset.csv\")"
      ],
      "execution_count": null,
      "outputs": []
    },
    {
      "cell_type": "code",
      "metadata": {
        "colab": {
          "base_uri": "https://localhost:8080/"
        },
        "id": "Wj0BR5-iL_Dj",
        "outputId": "148d21c3-bb6c-408a-e7e0-a740f685feb0"
      },
      "source": [
        "table = pd.DataFrame(columns=('Team','HGS','AGS','HAS','AAS','HGC','AGC','HDS','ADS'))\n",
        "\n",
        "avg_home_scored = df.FTHG.sum() / 6080.0\n",
        "avg_away_scored = df.FTAG.sum() / 6080.0\n",
        "avg_home_conceded = avg_away_scored\n",
        "avg_away_conceded = avg_home_scored\n",
        "print(avg_home_conceded)\n",
        "print(avg_away_conceded)"
      ],
      "execution_count": null,
      "outputs": [
        {
          "output_type": "stream",
          "text": [
            "1.0657894736842106\n",
            "1.5447368421052632\n"
          ],
          "name": "stdout"
        }
      ]
    },
    {
      "cell_type": "code",
      "metadata": {
        "colab": {
          "base_uri": "https://localhost:8080/"
        },
        "id": "rwkgzV8sMAmf",
        "outputId": "e97459ef-cbe8-40d2-aca0-b27d114967bb"
      },
      "source": [
        "res_home = df.groupby('HomeTeam')\n",
        "res_away = df.groupby('AwayTeam')\n",
        "res_home.HomeTeam.all().index"
      ],
      "execution_count": null,
      "outputs": [
        {
          "output_type": "execute_result",
          "data": {
            "text/plain": [
              "Index(['Arsenal', 'Aston Villa', 'Bradford', 'Charlton', 'Chelsea', 'Coventry',\n",
              "       'Derby', 'Everton', 'Ipswich', 'Leeds', 'Leicester', 'Liverpool',\n",
              "       'Man City', 'Man United', 'Middlesbrough', 'Newcastle', 'Southampton',\n",
              "       'Sunderland', 'Tottenham', 'West Ham'],\n",
              "      dtype='object', name='HomeTeam')"
            ]
          },
          "metadata": {
            "tags": []
          },
          "execution_count": 27
        }
      ]
    },
    {
      "cell_type": "code",
      "metadata": {
        "colab": {
          "base_uri": "https://localhost:8080/",
          "height": 662
        },
        "id": "OXZvaDdCMCu1",
        "outputId": "913fd961-765b-4d4d-a932-741770d5de96"
      },
      "source": [
        "table.Team = res_home.HomeTeam.all().index\n",
        "table.HGS = res_home.FTHG.sum().values\n",
        "table.HGC = res_home.FTAG.sum().values\n",
        "table.AGS = res_away.FTAG.sum().values\n",
        "table.AGC = res_away.FTHG.sum().values\n",
        "#19 Home matches for each team each season and 16 seasons therefore 304 home matches and 304 away matches\n",
        "table.HAS = (table.HGS / 304.0) / avg_home_scored\n",
        "table.AAS = (table.AGS / 304.0) / avg_away_scored\n",
        "table.HDS = (table.HGC / 304.0) / avg_home_conceded\n",
        "table.ADS = (table.AGC / 304.0) / avg_away_conceded\n",
        "\n",
        "table"
      ],
      "execution_count": null,
      "outputs": [
        {
          "output_type": "execute_result",
          "data": {
            "text/html": [
              "<div>\n",
              "<style scoped>\n",
              "    .dataframe tbody tr th:only-of-type {\n",
              "        vertical-align: middle;\n",
              "    }\n",
              "\n",
              "    .dataframe tbody tr th {\n",
              "        vertical-align: top;\n",
              "    }\n",
              "\n",
              "    .dataframe thead th {\n",
              "        text-align: right;\n",
              "    }\n",
              "</style>\n",
              "<table border=\"1\" class=\"dataframe\">\n",
              "  <thead>\n",
              "    <tr style=\"text-align: right;\">\n",
              "      <th></th>\n",
              "      <th>Team</th>\n",
              "      <th>HGS</th>\n",
              "      <th>AGS</th>\n",
              "      <th>HAS</th>\n",
              "      <th>AAS</th>\n",
              "      <th>HGC</th>\n",
              "      <th>AGC</th>\n",
              "      <th>HDS</th>\n",
              "      <th>ADS</th>\n",
              "    </tr>\n",
              "  </thead>\n",
              "  <tbody>\n",
              "    <tr>\n",
              "      <th>0</th>\n",
              "      <td>Arsenal</td>\n",
              "      <td>720</td>\n",
              "      <td>288</td>\n",
              "      <td>1.533220</td>\n",
              "      <td>0.888889</td>\n",
              "      <td>208</td>\n",
              "      <td>400</td>\n",
              "      <td>0.641975</td>\n",
              "      <td>0.851789</td>\n",
              "    </tr>\n",
              "    <tr>\n",
              "      <th>1</th>\n",
              "      <td>Aston Villa</td>\n",
              "      <td>432</td>\n",
              "      <td>304</td>\n",
              "      <td>0.919932</td>\n",
              "      <td>0.938272</td>\n",
              "      <td>320</td>\n",
              "      <td>368</td>\n",
              "      <td>0.987654</td>\n",
              "      <td>0.783646</td>\n",
              "    </tr>\n",
              "    <tr>\n",
              "      <th>2</th>\n",
              "      <td>Bradford</td>\n",
              "      <td>320</td>\n",
              "      <td>160</td>\n",
              "      <td>0.681431</td>\n",
              "      <td>0.493827</td>\n",
              "      <td>464</td>\n",
              "      <td>656</td>\n",
              "      <td>1.432099</td>\n",
              "      <td>1.396934</td>\n",
              "    </tr>\n",
              "    <tr>\n",
              "      <th>3</th>\n",
              "      <td>Charlton</td>\n",
              "      <td>496</td>\n",
              "      <td>304</td>\n",
              "      <td>1.056218</td>\n",
              "      <td>0.938272</td>\n",
              "      <td>304</td>\n",
              "      <td>608</td>\n",
              "      <td>0.938272</td>\n",
              "      <td>1.294719</td>\n",
              "    </tr>\n",
              "    <tr>\n",
              "      <th>4</th>\n",
              "      <td>Chelsea</td>\n",
              "      <td>704</td>\n",
              "      <td>384</td>\n",
              "      <td>1.499148</td>\n",
              "      <td>1.185185</td>\n",
              "      <td>320</td>\n",
              "      <td>400</td>\n",
              "      <td>0.987654</td>\n",
              "      <td>0.851789</td>\n",
              "    </tr>\n",
              "    <tr>\n",
              "      <th>5</th>\n",
              "      <td>Coventry</td>\n",
              "      <td>224</td>\n",
              "      <td>352</td>\n",
              "      <td>0.477002</td>\n",
              "      <td>1.086420</td>\n",
              "      <td>368</td>\n",
              "      <td>640</td>\n",
              "      <td>1.135802</td>\n",
              "      <td>1.362862</td>\n",
              "    </tr>\n",
              "    <tr>\n",
              "      <th>6</th>\n",
              "      <td>Derby</td>\n",
              "      <td>368</td>\n",
              "      <td>224</td>\n",
              "      <td>0.783646</td>\n",
              "      <td>0.691358</td>\n",
              "      <td>384</td>\n",
              "      <td>560</td>\n",
              "      <td>1.185185</td>\n",
              "      <td>1.192504</td>\n",
              "    </tr>\n",
              "    <tr>\n",
              "      <th>7</th>\n",
              "      <td>Everton</td>\n",
              "      <td>464</td>\n",
              "      <td>256</td>\n",
              "      <td>0.988075</td>\n",
              "      <td>0.790123</td>\n",
              "      <td>432</td>\n",
              "      <td>512</td>\n",
              "      <td>1.333333</td>\n",
              "      <td>1.090290</td>\n",
              "    </tr>\n",
              "    <tr>\n",
              "      <th>8</th>\n",
              "      <td>Ipswich</td>\n",
              "      <td>496</td>\n",
              "      <td>416</td>\n",
              "      <td>1.056218</td>\n",
              "      <td>1.283951</td>\n",
              "      <td>240</td>\n",
              "      <td>432</td>\n",
              "      <td>0.740741</td>\n",
              "      <td>0.919932</td>\n",
              "    </tr>\n",
              "    <tr>\n",
              "      <th>9</th>\n",
              "      <td>Leeds</td>\n",
              "      <td>576</td>\n",
              "      <td>448</td>\n",
              "      <td>1.226576</td>\n",
              "      <td>1.382716</td>\n",
              "      <td>336</td>\n",
              "      <td>352</td>\n",
              "      <td>1.037037</td>\n",
              "      <td>0.749574</td>\n",
              "    </tr>\n",
              "    <tr>\n",
              "      <th>10</th>\n",
              "      <td>Leicester</td>\n",
              "      <td>448</td>\n",
              "      <td>176</td>\n",
              "      <td>0.954003</td>\n",
              "      <td>0.543210</td>\n",
              "      <td>368</td>\n",
              "      <td>448</td>\n",
              "      <td>1.135802</td>\n",
              "      <td>0.954003</td>\n",
              "    </tr>\n",
              "    <tr>\n",
              "      <th>11</th>\n",
              "      <td>Liverpool</td>\n",
              "      <td>640</td>\n",
              "      <td>496</td>\n",
              "      <td>1.362862</td>\n",
              "      <td>1.530864</td>\n",
              "      <td>224</td>\n",
              "      <td>400</td>\n",
              "      <td>0.691358</td>\n",
              "      <td>0.851789</td>\n",
              "    </tr>\n",
              "    <tr>\n",
              "      <th>12</th>\n",
              "      <td>Man City</td>\n",
              "      <td>320</td>\n",
              "      <td>336</td>\n",
              "      <td>0.681431</td>\n",
              "      <td>1.037037</td>\n",
              "      <td>496</td>\n",
              "      <td>544</td>\n",
              "      <td>1.530864</td>\n",
              "      <td>1.158433</td>\n",
              "    </tr>\n",
              "    <tr>\n",
              "      <th>13</th>\n",
              "      <td>Man United</td>\n",
              "      <td>784</td>\n",
              "      <td>480</td>\n",
              "      <td>1.669506</td>\n",
              "      <td>1.481481</td>\n",
              "      <td>192</td>\n",
              "      <td>304</td>\n",
              "      <td>0.592593</td>\n",
              "      <td>0.647359</td>\n",
              "    </tr>\n",
              "    <tr>\n",
              "      <th>14</th>\n",
              "      <td>Middlesbrough</td>\n",
              "      <td>288</td>\n",
              "      <td>416</td>\n",
              "      <td>0.613288</td>\n",
              "      <td>1.283951</td>\n",
              "      <td>368</td>\n",
              "      <td>336</td>\n",
              "      <td>1.135802</td>\n",
              "      <td>0.715503</td>\n",
              "    </tr>\n",
              "    <tr>\n",
              "      <th>15</th>\n",
              "      <td>Newcastle</td>\n",
              "      <td>416</td>\n",
              "      <td>288</td>\n",
              "      <td>0.885860</td>\n",
              "      <td>0.888889</td>\n",
              "      <td>272</td>\n",
              "      <td>528</td>\n",
              "      <td>0.839506</td>\n",
              "      <td>1.124361</td>\n",
              "    </tr>\n",
              "    <tr>\n",
              "      <th>16</th>\n",
              "      <td>Southampton</td>\n",
              "      <td>432</td>\n",
              "      <td>208</td>\n",
              "      <td>0.919932</td>\n",
              "      <td>0.641975</td>\n",
              "      <td>352</td>\n",
              "      <td>416</td>\n",
              "      <td>1.086420</td>\n",
              "      <td>0.885860</td>\n",
              "    </tr>\n",
              "    <tr>\n",
              "      <th>17</th>\n",
              "      <td>Sunderland</td>\n",
              "      <td>384</td>\n",
              "      <td>352</td>\n",
              "      <td>0.817717</td>\n",
              "      <td>1.086420</td>\n",
              "      <td>256</td>\n",
              "      <td>400</td>\n",
              "      <td>0.790123</td>\n",
              "      <td>0.851789</td>\n",
              "    </tr>\n",
              "    <tr>\n",
              "      <th>18</th>\n",
              "      <td>Tottenham</td>\n",
              "      <td>496</td>\n",
              "      <td>256</td>\n",
              "      <td>1.056218</td>\n",
              "      <td>0.790123</td>\n",
              "      <td>256</td>\n",
              "      <td>608</td>\n",
              "      <td>0.790123</td>\n",
              "      <td>1.294719</td>\n",
              "    </tr>\n",
              "    <tr>\n",
              "      <th>19</th>\n",
              "      <td>West Ham</td>\n",
              "      <td>384</td>\n",
              "      <td>336</td>\n",
              "      <td>0.817717</td>\n",
              "      <td>1.037037</td>\n",
              "      <td>320</td>\n",
              "      <td>480</td>\n",
              "      <td>0.987654</td>\n",
              "      <td>1.022147</td>\n",
              "    </tr>\n",
              "  </tbody>\n",
              "</table>\n",
              "</div>"
            ],
            "text/plain": [
              "             Team  HGS  AGS       HAS       AAS  HGC  AGC       HDS       ADS\n",
              "0         Arsenal  720  288  1.533220  0.888889  208  400  0.641975  0.851789\n",
              "1     Aston Villa  432  304  0.919932  0.938272  320  368  0.987654  0.783646\n",
              "2        Bradford  320  160  0.681431  0.493827  464  656  1.432099  1.396934\n",
              "3        Charlton  496  304  1.056218  0.938272  304  608  0.938272  1.294719\n",
              "4         Chelsea  704  384  1.499148  1.185185  320  400  0.987654  0.851789\n",
              "5        Coventry  224  352  0.477002  1.086420  368  640  1.135802  1.362862\n",
              "6           Derby  368  224  0.783646  0.691358  384  560  1.185185  1.192504\n",
              "7         Everton  464  256  0.988075  0.790123  432  512  1.333333  1.090290\n",
              "8         Ipswich  496  416  1.056218  1.283951  240  432  0.740741  0.919932\n",
              "9           Leeds  576  448  1.226576  1.382716  336  352  1.037037  0.749574\n",
              "10      Leicester  448  176  0.954003  0.543210  368  448  1.135802  0.954003\n",
              "11      Liverpool  640  496  1.362862  1.530864  224  400  0.691358  0.851789\n",
              "12       Man City  320  336  0.681431  1.037037  496  544  1.530864  1.158433\n",
              "13     Man United  784  480  1.669506  1.481481  192  304  0.592593  0.647359\n",
              "14  Middlesbrough  288  416  0.613288  1.283951  368  336  1.135802  0.715503\n",
              "15      Newcastle  416  288  0.885860  0.888889  272  528  0.839506  1.124361\n",
              "16    Southampton  432  208  0.919932  0.641975  352  416  1.086420  0.885860\n",
              "17     Sunderland  384  352  0.817717  1.086420  256  400  0.790123  0.851789\n",
              "18      Tottenham  496  256  1.056218  0.790123  256  608  0.790123  1.294719\n",
              "19       West Ham  384  336  0.817717  1.037037  320  480  0.987654  1.022147"
            ]
          },
          "metadata": {
            "tags": []
          },
          "execution_count": 28
        }
      ]
    },
    {
      "cell_type": "markdown",
      "metadata": {
        "id": "CKvDG7BvMJ9c"
      },
      "source": [
        "HGS - Home Goals Scored\n",
        "\n",
        "HGC - Home Goals Conceded\n",
        "\n",
        "AGS - Away Goals Scored\n",
        "\n",
        "AGC - Away Goals Conceded\n",
        "\n",
        "HAS - Home Attacking Strength\n",
        "\n",
        "HDS - Home Defensive Strength\n",
        "\n",
        "AAS - Away Attacking Strength\n",
        "\n",
        "ADS - Away Defensive Strength"
      ]
    },
    {
      "cell_type": "code",
      "metadata": {
        "colab": {
          "base_uri": "https://localhost:8080/",
          "height": 416
        },
        "id": "V_EnyvZxMFEO",
        "outputId": "3a32ef38-1717-45cb-bedf-61e52f7425ea"
      },
      "source": [
        "#Extract necessary features from the data file\n",
        "feature_table = df.iloc[:,:23]\n",
        "feature_table"
      ],
      "execution_count": null,
      "outputs": [
        {
          "output_type": "execute_result",
          "data": {
            "text/html": [
              "<div>\n",
              "<style scoped>\n",
              "    .dataframe tbody tr th:only-of-type {\n",
              "        vertical-align: middle;\n",
              "    }\n",
              "\n",
              "    .dataframe tbody tr th {\n",
              "        vertical-align: top;\n",
              "    }\n",
              "\n",
              "    .dataframe thead th {\n",
              "        text-align: right;\n",
              "    }\n",
              "</style>\n",
              "<table border=\"1\" class=\"dataframe\">\n",
              "  <thead>\n",
              "    <tr style=\"text-align: right;\">\n",
              "      <th></th>\n",
              "      <th>Unnamed: 0</th>\n",
              "      <th>HomeTeam</th>\n",
              "      <th>AwayTeam</th>\n",
              "      <th>FTHG</th>\n",
              "      <th>FTAG</th>\n",
              "      <th>FTR</th>\n",
              "      <th>HTHG</th>\n",
              "      <th>HTAG</th>\n",
              "      <th>HTR</th>\n",
              "      <th>HS</th>\n",
              "      <th>AS</th>\n",
              "      <th>HST</th>\n",
              "      <th>AST</th>\n",
              "      <th>HF</th>\n",
              "      <th>AF</th>\n",
              "      <th>HC</th>\n",
              "      <th>AC</th>\n",
              "      <th>HY</th>\n",
              "      <th>AY</th>\n",
              "      <th>HR</th>\n",
              "      <th>AR</th>\n",
              "    </tr>\n",
              "  </thead>\n",
              "  <tbody>\n",
              "    <tr>\n",
              "      <th>0</th>\n",
              "      <td>0</td>\n",
              "      <td>Charlton</td>\n",
              "      <td>Man City</td>\n",
              "      <td>4</td>\n",
              "      <td>0</td>\n",
              "      <td>H</td>\n",
              "      <td>2</td>\n",
              "      <td>0</td>\n",
              "      <td>H</td>\n",
              "      <td>17</td>\n",
              "      <td>8</td>\n",
              "      <td>14</td>\n",
              "      <td>4</td>\n",
              "      <td>13</td>\n",
              "      <td>12</td>\n",
              "      <td>6</td>\n",
              "      <td>6</td>\n",
              "      <td>1</td>\n",
              "      <td>2</td>\n",
              "      <td>0</td>\n",
              "      <td>0</td>\n",
              "    </tr>\n",
              "    <tr>\n",
              "      <th>1</th>\n",
              "      <td>1</td>\n",
              "      <td>Chelsea</td>\n",
              "      <td>West Ham</td>\n",
              "      <td>4</td>\n",
              "      <td>2</td>\n",
              "      <td>H</td>\n",
              "      <td>1</td>\n",
              "      <td>0</td>\n",
              "      <td>H</td>\n",
              "      <td>17</td>\n",
              "      <td>12</td>\n",
              "      <td>10</td>\n",
              "      <td>5</td>\n",
              "      <td>19</td>\n",
              "      <td>14</td>\n",
              "      <td>7</td>\n",
              "      <td>7</td>\n",
              "      <td>1</td>\n",
              "      <td>2</td>\n",
              "      <td>0</td>\n",
              "      <td>0</td>\n",
              "    </tr>\n",
              "    <tr>\n",
              "      <th>2</th>\n",
              "      <td>2</td>\n",
              "      <td>Coventry</td>\n",
              "      <td>Middlesbrough</td>\n",
              "      <td>1</td>\n",
              "      <td>3</td>\n",
              "      <td>A</td>\n",
              "      <td>1</td>\n",
              "      <td>1</td>\n",
              "      <td>D</td>\n",
              "      <td>6</td>\n",
              "      <td>16</td>\n",
              "      <td>3</td>\n",
              "      <td>9</td>\n",
              "      <td>15</td>\n",
              "      <td>21</td>\n",
              "      <td>8</td>\n",
              "      <td>4</td>\n",
              "      <td>5</td>\n",
              "      <td>3</td>\n",
              "      <td>1</td>\n",
              "      <td>0</td>\n",
              "    </tr>\n",
              "    <tr>\n",
              "      <th>3</th>\n",
              "      <td>3</td>\n",
              "      <td>Derby</td>\n",
              "      <td>Southampton</td>\n",
              "      <td>2</td>\n",
              "      <td>2</td>\n",
              "      <td>D</td>\n",
              "      <td>1</td>\n",
              "      <td>2</td>\n",
              "      <td>A</td>\n",
              "      <td>6</td>\n",
              "      <td>13</td>\n",
              "      <td>4</td>\n",
              "      <td>6</td>\n",
              "      <td>11</td>\n",
              "      <td>13</td>\n",
              "      <td>5</td>\n",
              "      <td>8</td>\n",
              "      <td>1</td>\n",
              "      <td>1</td>\n",
              "      <td>0</td>\n",
              "      <td>0</td>\n",
              "    </tr>\n",
              "    <tr>\n",
              "      <th>4</th>\n",
              "      <td>4</td>\n",
              "      <td>Leeds</td>\n",
              "      <td>Everton</td>\n",
              "      <td>2</td>\n",
              "      <td>0</td>\n",
              "      <td>H</td>\n",
              "      <td>2</td>\n",
              "      <td>0</td>\n",
              "      <td>H</td>\n",
              "      <td>17</td>\n",
              "      <td>12</td>\n",
              "      <td>8</td>\n",
              "      <td>6</td>\n",
              "      <td>21</td>\n",
              "      <td>20</td>\n",
              "      <td>6</td>\n",
              "      <td>4</td>\n",
              "      <td>1</td>\n",
              "      <td>3</td>\n",
              "      <td>0</td>\n",
              "      <td>0</td>\n",
              "    </tr>\n",
              "    <tr>\n",
              "      <th>...</th>\n",
              "      <td>...</td>\n",
              "      <td>...</td>\n",
              "      <td>...</td>\n",
              "      <td>...</td>\n",
              "      <td>...</td>\n",
              "      <td>...</td>\n",
              "      <td>...</td>\n",
              "      <td>...</td>\n",
              "      <td>...</td>\n",
              "      <td>...</td>\n",
              "      <td>...</td>\n",
              "      <td>...</td>\n",
              "      <td>...</td>\n",
              "      <td>...</td>\n",
              "      <td>...</td>\n",
              "      <td>...</td>\n",
              "      <td>...</td>\n",
              "      <td>...</td>\n",
              "      <td>...</td>\n",
              "      <td>...</td>\n",
              "      <td>...</td>\n",
              "    </tr>\n",
              "    <tr>\n",
              "      <th>6075</th>\n",
              "      <td>6075</td>\n",
              "      <td>Man City</td>\n",
              "      <td>Chelsea</td>\n",
              "      <td>1</td>\n",
              "      <td>2</td>\n",
              "      <td>A</td>\n",
              "      <td>1</td>\n",
              "      <td>1</td>\n",
              "      <td>D</td>\n",
              "      <td>3</td>\n",
              "      <td>9</td>\n",
              "      <td>1</td>\n",
              "      <td>3</td>\n",
              "      <td>22</td>\n",
              "      <td>18</td>\n",
              "      <td>8</td>\n",
              "      <td>7</td>\n",
              "      <td>4</td>\n",
              "      <td>2</td>\n",
              "      <td>0</td>\n",
              "      <td>0</td>\n",
              "    </tr>\n",
              "    <tr>\n",
              "      <th>6076</th>\n",
              "      <td>6076</td>\n",
              "      <td>Middlesbrough</td>\n",
              "      <td>West Ham</td>\n",
              "      <td>2</td>\n",
              "      <td>1</td>\n",
              "      <td>H</td>\n",
              "      <td>2</td>\n",
              "      <td>1</td>\n",
              "      <td>H</td>\n",
              "      <td>19</td>\n",
              "      <td>11</td>\n",
              "      <td>7</td>\n",
              "      <td>5</td>\n",
              "      <td>13</td>\n",
              "      <td>15</td>\n",
              "      <td>5</td>\n",
              "      <td>6</td>\n",
              "      <td>0</td>\n",
              "      <td>0</td>\n",
              "      <td>0</td>\n",
              "      <td>0</td>\n",
              "    </tr>\n",
              "    <tr>\n",
              "      <th>6077</th>\n",
              "      <td>6077</td>\n",
              "      <td>Newcastle</td>\n",
              "      <td>Aston Villa</td>\n",
              "      <td>3</td>\n",
              "      <td>0</td>\n",
              "      <td>H</td>\n",
              "      <td>2</td>\n",
              "      <td>0</td>\n",
              "      <td>H</td>\n",
              "      <td>9</td>\n",
              "      <td>5</td>\n",
              "      <td>5</td>\n",
              "      <td>1</td>\n",
              "      <td>10</td>\n",
              "      <td>14</td>\n",
              "      <td>5</td>\n",
              "      <td>1</td>\n",
              "      <td>0</td>\n",
              "      <td>5</td>\n",
              "      <td>1</td>\n",
              "      <td>1</td>\n",
              "    </tr>\n",
              "    <tr>\n",
              "      <th>6078</th>\n",
              "      <td>6078</td>\n",
              "      <td>Southampton</td>\n",
              "      <td>Arsenal</td>\n",
              "      <td>3</td>\n",
              "      <td>2</td>\n",
              "      <td>H</td>\n",
              "      <td>0</td>\n",
              "      <td>1</td>\n",
              "      <td>A</td>\n",
              "      <td>11</td>\n",
              "      <td>8</td>\n",
              "      <td>7</td>\n",
              "      <td>5</td>\n",
              "      <td>17</td>\n",
              "      <td>10</td>\n",
              "      <td>7</td>\n",
              "      <td>5</td>\n",
              "      <td>1</td>\n",
              "      <td>2</td>\n",
              "      <td>0</td>\n",
              "      <td>0</td>\n",
              "    </tr>\n",
              "    <tr>\n",
              "      <th>6079</th>\n",
              "      <td>6079</td>\n",
              "      <td>Tottenham</td>\n",
              "      <td>Man United</td>\n",
              "      <td>3</td>\n",
              "      <td>1</td>\n",
              "      <td>H</td>\n",
              "      <td>1</td>\n",
              "      <td>1</td>\n",
              "      <td>D</td>\n",
              "      <td>9</td>\n",
              "      <td>15</td>\n",
              "      <td>3</td>\n",
              "      <td>6</td>\n",
              "      <td>13</td>\n",
              "      <td>15</td>\n",
              "      <td>3</td>\n",
              "      <td>6</td>\n",
              "      <td>0</td>\n",
              "      <td>2</td>\n",
              "      <td>0</td>\n",
              "      <td>0</td>\n",
              "    </tr>\n",
              "  </tbody>\n",
              "</table>\n",
              "<p>6080 rows × 21 columns</p>\n",
              "</div>"
            ],
            "text/plain": [
              "      Unnamed: 0       HomeTeam       AwayTeam  FTHG  FTAG  ... AC  HY  AY HR  AR\n",
              "0              0       Charlton       Man City     4     0  ...  6   1   2  0   0\n",
              "1              1        Chelsea       West Ham     4     2  ...  7   1   2  0   0\n",
              "2              2       Coventry  Middlesbrough     1     3  ...  4   5   3  1   0\n",
              "3              3          Derby    Southampton     2     2  ...  8   1   1  0   0\n",
              "4              4          Leeds        Everton     2     0  ...  4   1   3  0   0\n",
              "...          ...            ...            ...   ...   ...  ... ..  ..  .. ..  ..\n",
              "6075        6075       Man City        Chelsea     1     2  ...  7   4   2  0   0\n",
              "6076        6076  Middlesbrough       West Ham     2     1  ...  6   0   0  0   0\n",
              "6077        6077      Newcastle    Aston Villa     3     0  ...  1   0   5  1   1\n",
              "6078        6078    Southampton        Arsenal     3     2  ...  5   1   2  0   0\n",
              "6079        6079      Tottenham     Man United     3     1  ...  6   0   2  0   0\n",
              "\n",
              "[6080 rows x 21 columns]"
            ]
          },
          "metadata": {
            "tags": []
          },
          "execution_count": 29
        }
      ]
    },
    {
      "cell_type": "code",
      "metadata": {
        "colab": {
          "base_uri": "https://localhost:8080/",
          "height": 693
        },
        "id": "H2mI3RhPMNSs",
        "outputId": "90c892e5-28c2-4771-a5c4-a9c2751827ab"
      },
      "source": [
        "#Full Time Result(FTR), Home Shots on Target(HST), Away Shots on Target(AST), Home Corners(HC), Away Corners(AC)\n",
        "feature_table = feature_table[['HomeTeam','AwayTeam','FTR','HST','AST','HC','AC']]\n",
        "\n",
        "#Home Attacking Strength(HAS), Home Defensive Strength(HDS), Away Attacking Strength(AAS), Away Defensive Strength(ADS)\n",
        "f_HAS = []\n",
        "f_HDS = []\n",
        "f_AAS = []\n",
        "f_ADS = []\n",
        "for index,row in feature_table.iterrows():\n",
        "    f_HAS.append(table[table['Team'] == row['HomeTeam']]['HAS'].values[0])\n",
        "    f_HDS.append(table[table['Team'] == row['HomeTeam']]['HDS'].values[0])\n",
        "    f_ADS.append(table[table['Team'] == row['AwayTeam']]['ADS'].values[0])\n",
        "    f_AAS.append(table[table['Team'] == row['AwayTeam']]['AAS'].values[0])\n",
        "\n",
        "\n",
        "feature_table['HAS'] = f_HAS\n",
        "feature_table['HDS'] = f_HDS\n",
        "feature_table['AAS'] = f_AAS\n",
        "feature_table['ADS'] = f_ADS\n",
        "feature_table"
      ],
      "execution_count": null,
      "outputs": [
        {
          "output_type": "stream",
          "text": [
            "/usr/local/lib/python3.7/dist-packages/ipykernel_launcher.py:16: SettingWithCopyWarning: \n",
            "A value is trying to be set on a copy of a slice from a DataFrame.\n",
            "Try using .loc[row_indexer,col_indexer] = value instead\n",
            "\n",
            "See the caveats in the documentation: https://pandas.pydata.org/pandas-docs/stable/user_guide/indexing.html#returning-a-view-versus-a-copy\n",
            "  app.launch_new_instance()\n",
            "/usr/local/lib/python3.7/dist-packages/ipykernel_launcher.py:17: SettingWithCopyWarning: \n",
            "A value is trying to be set on a copy of a slice from a DataFrame.\n",
            "Try using .loc[row_indexer,col_indexer] = value instead\n",
            "\n",
            "See the caveats in the documentation: https://pandas.pydata.org/pandas-docs/stable/user_guide/indexing.html#returning-a-view-versus-a-copy\n",
            "/usr/local/lib/python3.7/dist-packages/ipykernel_launcher.py:18: SettingWithCopyWarning: \n",
            "A value is trying to be set on a copy of a slice from a DataFrame.\n",
            "Try using .loc[row_indexer,col_indexer] = value instead\n",
            "\n",
            "See the caveats in the documentation: https://pandas.pydata.org/pandas-docs/stable/user_guide/indexing.html#returning-a-view-versus-a-copy\n"
          ],
          "name": "stderr"
        },
        {
          "output_type": "execute_result",
          "data": {
            "text/html": [
              "<div>\n",
              "<style scoped>\n",
              "    .dataframe tbody tr th:only-of-type {\n",
              "        vertical-align: middle;\n",
              "    }\n",
              "\n",
              "    .dataframe tbody tr th {\n",
              "        vertical-align: top;\n",
              "    }\n",
              "\n",
              "    .dataframe thead th {\n",
              "        text-align: right;\n",
              "    }\n",
              "</style>\n",
              "<table border=\"1\" class=\"dataframe\">\n",
              "  <thead>\n",
              "    <tr style=\"text-align: right;\">\n",
              "      <th></th>\n",
              "      <th>HomeTeam</th>\n",
              "      <th>AwayTeam</th>\n",
              "      <th>FTR</th>\n",
              "      <th>HST</th>\n",
              "      <th>AST</th>\n",
              "      <th>HC</th>\n",
              "      <th>AC</th>\n",
              "      <th>HAS</th>\n",
              "      <th>HDS</th>\n",
              "      <th>AAS</th>\n",
              "      <th>ADS</th>\n",
              "    </tr>\n",
              "  </thead>\n",
              "  <tbody>\n",
              "    <tr>\n",
              "      <th>0</th>\n",
              "      <td>Charlton</td>\n",
              "      <td>Man City</td>\n",
              "      <td>H</td>\n",
              "      <td>14</td>\n",
              "      <td>4</td>\n",
              "      <td>6</td>\n",
              "      <td>6</td>\n",
              "      <td>1.056218</td>\n",
              "      <td>0.938272</td>\n",
              "      <td>1.037037</td>\n",
              "      <td>1.158433</td>\n",
              "    </tr>\n",
              "    <tr>\n",
              "      <th>1</th>\n",
              "      <td>Chelsea</td>\n",
              "      <td>West Ham</td>\n",
              "      <td>H</td>\n",
              "      <td>10</td>\n",
              "      <td>5</td>\n",
              "      <td>7</td>\n",
              "      <td>7</td>\n",
              "      <td>1.499148</td>\n",
              "      <td>0.987654</td>\n",
              "      <td>1.037037</td>\n",
              "      <td>1.022147</td>\n",
              "    </tr>\n",
              "    <tr>\n",
              "      <th>2</th>\n",
              "      <td>Coventry</td>\n",
              "      <td>Middlesbrough</td>\n",
              "      <td>A</td>\n",
              "      <td>3</td>\n",
              "      <td>9</td>\n",
              "      <td>8</td>\n",
              "      <td>4</td>\n",
              "      <td>0.477002</td>\n",
              "      <td>1.135802</td>\n",
              "      <td>1.283951</td>\n",
              "      <td>0.715503</td>\n",
              "    </tr>\n",
              "    <tr>\n",
              "      <th>3</th>\n",
              "      <td>Derby</td>\n",
              "      <td>Southampton</td>\n",
              "      <td>D</td>\n",
              "      <td>4</td>\n",
              "      <td>6</td>\n",
              "      <td>5</td>\n",
              "      <td>8</td>\n",
              "      <td>0.783646</td>\n",
              "      <td>1.185185</td>\n",
              "      <td>0.641975</td>\n",
              "      <td>0.885860</td>\n",
              "    </tr>\n",
              "    <tr>\n",
              "      <th>4</th>\n",
              "      <td>Leeds</td>\n",
              "      <td>Everton</td>\n",
              "      <td>H</td>\n",
              "      <td>8</td>\n",
              "      <td>6</td>\n",
              "      <td>6</td>\n",
              "      <td>4</td>\n",
              "      <td>1.226576</td>\n",
              "      <td>1.037037</td>\n",
              "      <td>0.790123</td>\n",
              "      <td>1.090290</td>\n",
              "    </tr>\n",
              "    <tr>\n",
              "      <th>...</th>\n",
              "      <td>...</td>\n",
              "      <td>...</td>\n",
              "      <td>...</td>\n",
              "      <td>...</td>\n",
              "      <td>...</td>\n",
              "      <td>...</td>\n",
              "      <td>...</td>\n",
              "      <td>...</td>\n",
              "      <td>...</td>\n",
              "      <td>...</td>\n",
              "      <td>...</td>\n",
              "    </tr>\n",
              "    <tr>\n",
              "      <th>6075</th>\n",
              "      <td>Man City</td>\n",
              "      <td>Chelsea</td>\n",
              "      <td>A</td>\n",
              "      <td>1</td>\n",
              "      <td>3</td>\n",
              "      <td>8</td>\n",
              "      <td>7</td>\n",
              "      <td>0.681431</td>\n",
              "      <td>1.530864</td>\n",
              "      <td>1.185185</td>\n",
              "      <td>0.851789</td>\n",
              "    </tr>\n",
              "    <tr>\n",
              "      <th>6076</th>\n",
              "      <td>Middlesbrough</td>\n",
              "      <td>West Ham</td>\n",
              "      <td>H</td>\n",
              "      <td>7</td>\n",
              "      <td>5</td>\n",
              "      <td>5</td>\n",
              "      <td>6</td>\n",
              "      <td>0.613288</td>\n",
              "      <td>1.135802</td>\n",
              "      <td>1.037037</td>\n",
              "      <td>1.022147</td>\n",
              "    </tr>\n",
              "    <tr>\n",
              "      <th>6077</th>\n",
              "      <td>Newcastle</td>\n",
              "      <td>Aston Villa</td>\n",
              "      <td>H</td>\n",
              "      <td>5</td>\n",
              "      <td>1</td>\n",
              "      <td>5</td>\n",
              "      <td>1</td>\n",
              "      <td>0.885860</td>\n",
              "      <td>0.839506</td>\n",
              "      <td>0.938272</td>\n",
              "      <td>0.783646</td>\n",
              "    </tr>\n",
              "    <tr>\n",
              "      <th>6078</th>\n",
              "      <td>Southampton</td>\n",
              "      <td>Arsenal</td>\n",
              "      <td>H</td>\n",
              "      <td>7</td>\n",
              "      <td>5</td>\n",
              "      <td>7</td>\n",
              "      <td>5</td>\n",
              "      <td>0.919932</td>\n",
              "      <td>1.086420</td>\n",
              "      <td>0.888889</td>\n",
              "      <td>0.851789</td>\n",
              "    </tr>\n",
              "    <tr>\n",
              "      <th>6079</th>\n",
              "      <td>Tottenham</td>\n",
              "      <td>Man United</td>\n",
              "      <td>H</td>\n",
              "      <td>3</td>\n",
              "      <td>6</td>\n",
              "      <td>3</td>\n",
              "      <td>6</td>\n",
              "      <td>1.056218</td>\n",
              "      <td>0.790123</td>\n",
              "      <td>1.481481</td>\n",
              "      <td>0.647359</td>\n",
              "    </tr>\n",
              "  </tbody>\n",
              "</table>\n",
              "<p>6080 rows × 11 columns</p>\n",
              "</div>"
            ],
            "text/plain": [
              "           HomeTeam       AwayTeam FTR  ...       HDS       AAS       ADS\n",
              "0          Charlton       Man City   H  ...  0.938272  1.037037  1.158433\n",
              "1           Chelsea       West Ham   H  ...  0.987654  1.037037  1.022147\n",
              "2          Coventry  Middlesbrough   A  ...  1.135802  1.283951  0.715503\n",
              "3             Derby    Southampton   D  ...  1.185185  0.641975  0.885860\n",
              "4             Leeds        Everton   H  ...  1.037037  0.790123  1.090290\n",
              "...             ...            ...  ..  ...       ...       ...       ...\n",
              "6075       Man City        Chelsea   A  ...  1.530864  1.185185  0.851789\n",
              "6076  Middlesbrough       West Ham   H  ...  1.135802  1.037037  1.022147\n",
              "6077      Newcastle    Aston Villa   H  ...  0.839506  0.938272  0.783646\n",
              "6078    Southampton        Arsenal   H  ...  1.086420  0.888889  0.851789\n",
              "6079      Tottenham     Man United   H  ...  0.790123  1.481481  0.647359\n",
              "\n",
              "[6080 rows x 11 columns]"
            ]
          },
          "metadata": {
            "tags": []
          },
          "execution_count": 31
        }
      ]
    },
    {
      "cell_type": "code",
      "metadata": {
        "id": "r58ZkoerMWNh"
      },
      "source": [
        "feature_table.to_csv(\"Feature_table.csv\")"
      ],
      "execution_count": null,
      "outputs": []
    },
    {
      "cell_type": "markdown",
      "metadata": {
        "id": "Xocp7QiQYmvk"
      },
      "source": [
        "Converting categorical Data into Numerical Equivalent"
      ]
    },
    {
      "cell_type": "code",
      "metadata": {
        "id": "qto3eUy6McIF"
      },
      "source": [
        "#Function to transform FTR into numeric data type\n",
        "def transformResult(row):\n",
        "    if(row.FTR == 'H'):\n",
        "        return 1\n",
        "    elif(row.FTR == 'A'):\n",
        "        return -1\n",
        "    else:\n",
        "        return 0"
      ],
      "execution_count": null,
      "outputs": []
    },
    {
      "cell_type": "code",
      "metadata": {
        "colab": {
          "base_uri": "https://localhost:8080/",
          "height": 202
        },
        "id": "7oG_hST2Mjmv",
        "outputId": "28a47b64-cc0a-46ff-cd0c-98a22884a765"
      },
      "source": [
        "feature_table[\"Result\"] = feature_table.apply(lambda row: transformResult(row),axis=1)\n",
        "feature_table.head()"
      ],
      "execution_count": null,
      "outputs": [
        {
          "output_type": "execute_result",
          "data": {
            "text/html": [
              "<div>\n",
              "<style scoped>\n",
              "    .dataframe tbody tr th:only-of-type {\n",
              "        vertical-align: middle;\n",
              "    }\n",
              "\n",
              "    .dataframe tbody tr th {\n",
              "        vertical-align: top;\n",
              "    }\n",
              "\n",
              "    .dataframe thead th {\n",
              "        text-align: right;\n",
              "    }\n",
              "</style>\n",
              "<table border=\"1\" class=\"dataframe\">\n",
              "  <thead>\n",
              "    <tr style=\"text-align: right;\">\n",
              "      <th></th>\n",
              "      <th>HomeTeam</th>\n",
              "      <th>AwayTeam</th>\n",
              "      <th>FTR</th>\n",
              "      <th>HST</th>\n",
              "      <th>AST</th>\n",
              "      <th>HC</th>\n",
              "      <th>AC</th>\n",
              "      <th>HAS</th>\n",
              "      <th>HDS</th>\n",
              "      <th>AAS</th>\n",
              "      <th>ADS</th>\n",
              "      <th>Result</th>\n",
              "    </tr>\n",
              "  </thead>\n",
              "  <tbody>\n",
              "    <tr>\n",
              "      <th>0</th>\n",
              "      <td>Charlton</td>\n",
              "      <td>Man City</td>\n",
              "      <td>H</td>\n",
              "      <td>14</td>\n",
              "      <td>4</td>\n",
              "      <td>6</td>\n",
              "      <td>6</td>\n",
              "      <td>1.056218</td>\n",
              "      <td>0.938272</td>\n",
              "      <td>1.037037</td>\n",
              "      <td>1.158433</td>\n",
              "      <td>1</td>\n",
              "    </tr>\n",
              "    <tr>\n",
              "      <th>1</th>\n",
              "      <td>Chelsea</td>\n",
              "      <td>West Ham</td>\n",
              "      <td>H</td>\n",
              "      <td>10</td>\n",
              "      <td>5</td>\n",
              "      <td>7</td>\n",
              "      <td>7</td>\n",
              "      <td>1.499148</td>\n",
              "      <td>0.987654</td>\n",
              "      <td>1.037037</td>\n",
              "      <td>1.022147</td>\n",
              "      <td>1</td>\n",
              "    </tr>\n",
              "    <tr>\n",
              "      <th>2</th>\n",
              "      <td>Coventry</td>\n",
              "      <td>Middlesbrough</td>\n",
              "      <td>A</td>\n",
              "      <td>3</td>\n",
              "      <td>9</td>\n",
              "      <td>8</td>\n",
              "      <td>4</td>\n",
              "      <td>0.477002</td>\n",
              "      <td>1.135802</td>\n",
              "      <td>1.283951</td>\n",
              "      <td>0.715503</td>\n",
              "      <td>-1</td>\n",
              "    </tr>\n",
              "    <tr>\n",
              "      <th>3</th>\n",
              "      <td>Derby</td>\n",
              "      <td>Southampton</td>\n",
              "      <td>D</td>\n",
              "      <td>4</td>\n",
              "      <td>6</td>\n",
              "      <td>5</td>\n",
              "      <td>8</td>\n",
              "      <td>0.783646</td>\n",
              "      <td>1.185185</td>\n",
              "      <td>0.641975</td>\n",
              "      <td>0.885860</td>\n",
              "      <td>0</td>\n",
              "    </tr>\n",
              "    <tr>\n",
              "      <th>4</th>\n",
              "      <td>Leeds</td>\n",
              "      <td>Everton</td>\n",
              "      <td>H</td>\n",
              "      <td>8</td>\n",
              "      <td>6</td>\n",
              "      <td>6</td>\n",
              "      <td>4</td>\n",
              "      <td>1.226576</td>\n",
              "      <td>1.037037</td>\n",
              "      <td>0.790123</td>\n",
              "      <td>1.090290</td>\n",
              "      <td>1</td>\n",
              "    </tr>\n",
              "  </tbody>\n",
              "</table>\n",
              "</div>"
            ],
            "text/plain": [
              "   HomeTeam       AwayTeam FTR  HST  ...       HDS       AAS       ADS  Result\n",
              "0  Charlton       Man City   H   14  ...  0.938272  1.037037  1.158433       1\n",
              "1   Chelsea       West Ham   H   10  ...  0.987654  1.037037  1.022147       1\n",
              "2  Coventry  Middlesbrough   A    3  ...  1.135802  1.283951  0.715503      -1\n",
              "3     Derby    Southampton   D    4  ...  1.185185  0.641975  0.885860       0\n",
              "4     Leeds        Everton   H    8  ...  1.037037  0.790123  1.090290       1\n",
              "\n",
              "[5 rows x 12 columns]"
            ]
          },
          "metadata": {
            "tags": []
          },
          "execution_count": 34
        }
      ]
    },
    {
      "cell_type": "code",
      "metadata": {
        "id": "dlUi-v5CMmX3"
      },
      "source": [
        "from sklearn.naive_bayes import MultinomialNB\n",
        "from sklearn.model_selection import cross_val_score\n",
        "from sklearn.linear_model import LogisticRegression\n",
        "from sklearn.model_selection import train_test_split\n",
        "import matplotlib.pyplot as plt\n",
        "%matplotlib inline  \n",
        "from sklearn.svm import SVC\n",
        "from sklearn import linear_model"
      ],
      "execution_count": null,
      "outputs": []
    },
    {
      "cell_type": "code",
      "metadata": {
        "colab": {
          "base_uri": "https://localhost:8080/",
          "height": 388
        },
        "id": "aoSfwHGkMveq",
        "outputId": "7363b006-b80b-4f11-cb0c-4d09a9f23e13"
      },
      "source": [
        "#Two sets of training sets - adding features.\n",
        "X_train = feature_table[['HAS','HDS','AAS','ADS']]\n",
        "X_train_2 = feature_table[['HAS','HDS','AAS','ADS','HST','AST','HC','AC']]\n",
        "y_train = feature_table['Result']\n",
        "X_Train, X_Test, y_Train, y_Test = train_test_split(X_train, y_train, test_size = 0.3, random_state = 0)\n",
        "X_Train_2, X_Test_2, y_Train, y_Test = train_test_split(X_train_2, y_train, test_size = 0.3, random_state = 0)\n",
        "display(X_Train.head())\n",
        "display(X_Train_2.head())"
      ],
      "execution_count": null,
      "outputs": [
        {
          "output_type": "display_data",
          "data": {
            "text/html": [
              "<div>\n",
              "<style scoped>\n",
              "    .dataframe tbody tr th:only-of-type {\n",
              "        vertical-align: middle;\n",
              "    }\n",
              "\n",
              "    .dataframe tbody tr th {\n",
              "        vertical-align: top;\n",
              "    }\n",
              "\n",
              "    .dataframe thead th {\n",
              "        text-align: right;\n",
              "    }\n",
              "</style>\n",
              "<table border=\"1\" class=\"dataframe\">\n",
              "  <thead>\n",
              "    <tr style=\"text-align: right;\">\n",
              "      <th></th>\n",
              "      <th>HAS</th>\n",
              "      <th>HDS</th>\n",
              "      <th>AAS</th>\n",
              "      <th>ADS</th>\n",
              "    </tr>\n",
              "  </thead>\n",
              "  <tbody>\n",
              "    <tr>\n",
              "      <th>45</th>\n",
              "      <td>0.613288</td>\n",
              "      <td>1.135802</td>\n",
              "      <td>0.790123</td>\n",
              "      <td>1.090290</td>\n",
              "    </tr>\n",
              "    <tr>\n",
              "      <th>2080</th>\n",
              "      <td>1.056218</td>\n",
              "      <td>0.938272</td>\n",
              "      <td>0.790123</td>\n",
              "      <td>1.090290</td>\n",
              "    </tr>\n",
              "    <tr>\n",
              "      <th>5793</th>\n",
              "      <td>1.669506</td>\n",
              "      <td>0.592593</td>\n",
              "      <td>1.382716</td>\n",
              "      <td>0.749574</td>\n",
              "    </tr>\n",
              "    <tr>\n",
              "      <th>87</th>\n",
              "      <td>0.783646</td>\n",
              "      <td>1.185185</td>\n",
              "      <td>1.530864</td>\n",
              "      <td>0.851789</td>\n",
              "    </tr>\n",
              "    <tr>\n",
              "      <th>1744</th>\n",
              "      <td>1.056218</td>\n",
              "      <td>0.740741</td>\n",
              "      <td>0.543210</td>\n",
              "      <td>0.954003</td>\n",
              "    </tr>\n",
              "  </tbody>\n",
              "</table>\n",
              "</div>"
            ],
            "text/plain": [
              "           HAS       HDS       AAS       ADS\n",
              "45    0.613288  1.135802  0.790123  1.090290\n",
              "2080  1.056218  0.938272  0.790123  1.090290\n",
              "5793  1.669506  0.592593  1.382716  0.749574\n",
              "87    0.783646  1.185185  1.530864  0.851789\n",
              "1744  1.056218  0.740741  0.543210  0.954003"
            ]
          },
          "metadata": {
            "tags": []
          }
        },
        {
          "output_type": "display_data",
          "data": {
            "text/html": [
              "<div>\n",
              "<style scoped>\n",
              "    .dataframe tbody tr th:only-of-type {\n",
              "        vertical-align: middle;\n",
              "    }\n",
              "\n",
              "    .dataframe tbody tr th {\n",
              "        vertical-align: top;\n",
              "    }\n",
              "\n",
              "    .dataframe thead th {\n",
              "        text-align: right;\n",
              "    }\n",
              "</style>\n",
              "<table border=\"1\" class=\"dataframe\">\n",
              "  <thead>\n",
              "    <tr style=\"text-align: right;\">\n",
              "      <th></th>\n",
              "      <th>HAS</th>\n",
              "      <th>HDS</th>\n",
              "      <th>AAS</th>\n",
              "      <th>ADS</th>\n",
              "      <th>HST</th>\n",
              "      <th>AST</th>\n",
              "      <th>HC</th>\n",
              "      <th>AC</th>\n",
              "    </tr>\n",
              "  </thead>\n",
              "  <tbody>\n",
              "    <tr>\n",
              "      <th>45</th>\n",
              "      <td>0.613288</td>\n",
              "      <td>1.135802</td>\n",
              "      <td>0.790123</td>\n",
              "      <td>1.090290</td>\n",
              "      <td>5</td>\n",
              "      <td>9</td>\n",
              "      <td>7</td>\n",
              "      <td>7</td>\n",
              "    </tr>\n",
              "    <tr>\n",
              "      <th>2080</th>\n",
              "      <td>1.056218</td>\n",
              "      <td>0.938272</td>\n",
              "      <td>0.790123</td>\n",
              "      <td>1.090290</td>\n",
              "      <td>7</td>\n",
              "      <td>4</td>\n",
              "      <td>13</td>\n",
              "      <td>6</td>\n",
              "    </tr>\n",
              "    <tr>\n",
              "      <th>5793</th>\n",
              "      <td>1.669506</td>\n",
              "      <td>0.592593</td>\n",
              "      <td>1.382716</td>\n",
              "      <td>0.749574</td>\n",
              "      <td>14</td>\n",
              "      <td>0</td>\n",
              "      <td>12</td>\n",
              "      <td>4</td>\n",
              "    </tr>\n",
              "    <tr>\n",
              "      <th>87</th>\n",
              "      <td>0.783646</td>\n",
              "      <td>1.185185</td>\n",
              "      <td>1.530864</td>\n",
              "      <td>0.851789</td>\n",
              "      <td>0</td>\n",
              "      <td>11</td>\n",
              "      <td>4</td>\n",
              "      <td>3</td>\n",
              "    </tr>\n",
              "    <tr>\n",
              "      <th>1744</th>\n",
              "      <td>1.056218</td>\n",
              "      <td>0.740741</td>\n",
              "      <td>0.543210</td>\n",
              "      <td>0.954003</td>\n",
              "      <td>9</td>\n",
              "      <td>3</td>\n",
              "      <td>8</td>\n",
              "      <td>1</td>\n",
              "    </tr>\n",
              "  </tbody>\n",
              "</table>\n",
              "</div>"
            ],
            "text/plain": [
              "           HAS       HDS       AAS       ADS  HST  AST  HC  AC\n",
              "45    0.613288  1.135802  0.790123  1.090290    5    9   7   7\n",
              "2080  1.056218  0.938272  0.790123  1.090290    7    4  13   6\n",
              "5793  1.669506  0.592593  1.382716  0.749574   14    0  12   4\n",
              "87    0.783646  1.185185  1.530864  0.851789    0   11   4   3\n",
              "1744  1.056218  0.740741  0.543210  0.954003    9    3   8   1"
            ]
          },
          "metadata": {
            "tags": []
          }
        }
      ]
    },
    {
      "cell_type": "code",
      "metadata": {
        "colab": {
          "base_uri": "https://localhost:8080/"
        },
        "id": "jGo6bBN1Mxig",
        "outputId": "640ac23e-8473-4f60-d998-0539b05b0cfe"
      },
      "source": [
        "clf1 = MultinomialNB(alpha=188)\n",
        "clf1.fit(X_train,y_train)\n",
        "clf1.fit(X_train_2,y_train)\n",
        "scores = cross_val_score(clf1, X_Train, y_Train, cv=10)\n",
        "scores_2 = cross_val_score(clf1, X_Train_2, y_Train, cv=10)\n",
        "print (\"NB alpha \",clf1.alpha,\" \", scOre, \" : \", scOre_2)"
      ],
      "execution_count": null,
      "outputs": [
        {
          "output_type": "stream",
          "text": [
            "NB alpha  188   0.6790886495443248  :  0.7636735708367854\n"
          ],
          "name": "stdout"
        }
      ]
    },
    {
      "cell_type": "code",
      "metadata": {
        "colab": {
          "base_uri": "https://localhost:8080/",
          "height": 364
        },
        "id": "_EW3lnYvM4Kl",
        "outputId": "9525f781-cdba-423a-827a-365d49af54fe"
      },
      "source": [
        "from sklearn.preprocessing import normalize\n",
        "X_Train = normalize(X_Train)\n",
        "X_Train_2 = normalize(X_Train_2)\n",
        "pd.set_option('display.expand_frame_repr', False)\n",
        "\n",
        "display(X_Train)\n",
        "display(X_Train_2)"
      ],
      "execution_count": null,
      "outputs": [
        {
          "output_type": "display_data",
          "data": {
            "text/plain": [
              "array([[0.32879482, 0.60892439, 0.42359958, 0.58452412],\n",
              "       [0.54118959, 0.48075567, 0.40484688, 0.55864731],\n",
              "       [0.70472898, 0.25014417, 0.58366972, 0.31640893],\n",
              "       ...,\n",
              "       [0.2926523 , 0.65745604, 0.63624778, 0.27801969],\n",
              "       [0.25780374, 0.6138639 , 0.58717416, 0.46036382],\n",
              "       [0.55521485, 0.4694193 , 0.3576528 , 0.58606012]])"
            ]
          },
          "metadata": {
            "tags": []
          }
        },
        {
          "output_type": "display_data",
          "data": {
            "text/plain": [
              "array([[0.0425772 , 0.07885251, 0.05485392, ..., 0.62482044, 0.48597146,\n",
              "        0.48597146],\n",
              "       [0.06383072, 0.05670283, 0.04774975, ..., 0.24173312, 0.78563263,\n",
              "        0.36259967],\n",
              "       [0.08779433, 0.03116267, 0.0727129 , ..., 0.        , 0.63104411,\n",
              "        0.21034804],\n",
              "       ...,\n",
              "       [0.04238941, 0.09522964, 0.09215771, ..., 0.24882583, 0.62206457,\n",
              "        0.68427102],\n",
              "       [0.04054293, 0.09653794, 0.09234063, ..., 0.25498607, 0.50997214,\n",
              "        0.25498607],\n",
              "       [0.10721533, 0.09064769, 0.06906491, ..., 0.43705137, 0.52446165,\n",
              "        0.3496411 ]])"
            ]
          },
          "metadata": {
            "tags": []
          }
        }
      ]
    },
    {
      "cell_type": "markdown",
      "metadata": {
        "id": "fV7ATCyxX8_N"
      },
      "source": [
        "**<h3>SVM**"
      ]
    },
    {
      "cell_type": "code",
      "metadata": {
        "colab": {
          "base_uri": "https://localhost:8080/"
        },
        "id": "ApURH48WM8Vm",
        "outputId": "ed5b534a-f402-4369-987e-5663968aaf25"
      },
      "source": [
        "clf = SVC(kernel = 'linear', C = 7, probability = True)\n",
        "clf.fit(X_Train,y_Train)\n",
        "scores = cross_val_score(clf, X_Train, y_Train, cv=10)\n",
        "y_pred = clf.predict(X_Test)\n",
        "print(y_pred[:10])\n",
        "clf.fit(X_Train_2,y_Train)\n",
        "scores_2 = cross_val_score(clf, X_Train_2, y_Train, cv=8)\n",
        "y_pred = clf.predict(X_Test_2)\n",
        "print(y_pred[:10])\n",
        "print (\"SVM\",\" : \", Score, \" : \", Score_2)"
      ],
      "execution_count": null,
      "outputs": [
        {
          "output_type": "stream",
          "text": [
            "[1 1 1 1 1 1 1 1 1 1]\n",
            "[1 1 1 1 1 1 1 1 1 1]\n",
            "SVM  :  0.8813454846727423  :  0.9346898496240602\n"
          ],
          "name": "stdout"
        }
      ]
    },
    {
      "cell_type": "code",
      "metadata": {
        "colab": {
          "base_uri": "https://localhost:8080/"
        },
        "id": "cz17TzOBY3o5",
        "outputId": "9165af36-b570-4df7-e0cc-e84f3c4866cd"
      },
      "source": [
        "c_test = [[1.533220,\t0.641975,\t0.938272,\t0.783646,\t10,\t3,\t7,\t4]]\n",
        "y_pred = clf.predict(c_test)\n",
        "if y_pred == [1]:  \n",
        "  print(\"Home Team Will Win\")\n",
        "elif y_pred == [0]:\n",
        "  print(\"The Game Will Tie\")\n",
        "else:\n",
        "  print(\"Home Team Will Lose\")"
      ],
      "execution_count": null,
      "outputs": [
        {
          "output_type": "stream",
          "text": [
            "Home Team Will Win\n"
          ],
          "name": "stdout"
        }
      ]
    },
    {
      "cell_type": "markdown",
      "metadata": {
        "id": "8ltTJYGSXqse"
      },
      "source": [
        "**<h3>Logistic Regression** "
      ]
    },
    {
      "cell_type": "code",
      "metadata": {
        "colab": {
          "base_uri": "https://localhost:8080/"
        },
        "id": "eb2ak89ONED5",
        "outputId": "472cce96-6745-4b90-e717-1933e084f6de"
      },
      "source": [
        "clf = LogisticRegression()\n",
        "clf.fit(X_train,y_train)\n",
        "scores = cross_val_score(clf, X_Train, y_Train, cv=8)\n",
        "y_pred = clf.predict(X_Test)\n",
        "print(y_pred[:10])\n",
        "clf.fit(X_train_2,y_train)\n",
        "scores_2 = cross_val_score(clf, X_Train_2, y_Train, cv=8)\n",
        "y_pred = clf.predict(X_Test_2)\n",
        "print(y_pred[:10])\n",
        " \n",
        "print (\"Logreg\",\" : \", sCore, \" : \", sCore_2)"
      ],
      "execution_count": null,
      "outputs": [
        {
          "output_type": "stream",
          "text": [
            "[ 0  1  1  1 -1 -1  1  1  1  1]\n"
          ],
          "name": "stdout"
        },
        {
          "output_type": "stream",
          "text": [
            "/usr/local/lib/python3.7/dist-packages/sklearn/linear_model/_logistic.py:940: ConvergenceWarning: lbfgs failed to converge (status=1):\n",
            "STOP: TOTAL NO. of ITERATIONS REACHED LIMIT.\n",
            "\n",
            "Increase the number of iterations (max_iter) or scale the data as shown in:\n",
            "    https://scikit-learn.org/stable/modules/preprocessing.html\n",
            "Please also refer to the documentation for alternative solver options:\n",
            "    https://scikit-learn.org/stable/modules/linear_model.html#logistic-regression\n",
            "  extra_warning_msg=_LOGISTIC_SOLVER_CONVERGENCE_MSG)\n"
          ],
          "name": "stderr"
        },
        {
          "output_type": "stream",
          "text": [
            "[-1  1  1  1  1  0  1  1  1  1]\n",
            "Logreg  :  0.855917149958575  :  0.9033834586466166\n"
          ],
          "name": "stdout"
        }
      ]
    },
    {
      "cell_type": "code",
      "metadata": {
        "colab": {
          "base_uri": "https://localhost:8080/"
        },
        "id": "pXXx4rjYZLQE",
        "outputId": "69209687-50e6-4824-b719-6ca76ae93ec8"
      },
      "source": [
        "c_test = [[0.885860, 0.839506, 1.283951, 0.715503, 5, 4, 5, 1]]\n",
        "y_pred = clf.predict(c_test)\n",
        "if y_pred == [1]:  \n",
        "  print(\"Home Team Will Win\")\n",
        "elif y_pred == [0]:\n",
        "  print(\"The Game Will Tie\")\n",
        "else:\n",
        "  print(\"Home Team Will Lose\")"
      ],
      "execution_count": null,
      "outputs": [
        {
          "output_type": "stream",
          "text": [
            "Home Team Will Lose\n"
          ],
          "name": "stdout"
        }
      ]
    },
    {
      "cell_type": "code",
      "metadata": {
        "id": "o12nRjiHa3VU"
      },
      "source": [
        ""
      ],
      "execution_count": null,
      "outputs": []
    }
  ]
}